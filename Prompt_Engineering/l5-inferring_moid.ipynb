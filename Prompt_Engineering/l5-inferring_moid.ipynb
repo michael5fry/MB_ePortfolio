{
 "cells": [
  {
   "attachments": {},
   "cell_type": "markdown",
   "id": "3630c235-f891-4874-bd0a-5277d4d6aa82",
   "metadata": {},
   "source": [
    "# Inferring\n",
    "In this lesson, you will infer sentiment and topics from product reviews and news articles.\n",
    "\n",
    "## Setup"
   ]
  },
  {
   "cell_type": "code",
   "execution_count": 74,
   "id": "39689e67",
   "metadata": {
    "height": 148
   },
   "outputs": [],
   "source": [
    "import openai\n",
    "import os\n",
    "\n",
    "from dotenv import load_dotenv, find_dotenv\n",
    "_ = load_dotenv(find_dotenv()) # read local .env file\n",
    "\n",
    "\n",
    "my_test_key2 = 'sk-0WC...'\n",
    "openai.api_key  = my_test_key2#os.getenv('OPENAI_API_KEY')\n",
    "\n",
    "def get_completion(prompt, model=\"gpt-3.5-turbo\"):\n",
    "    messages = [{\"role\": \"user\", \"content\": prompt}]\n",
    "    response = openai.ChatCompletion.create(\n",
    "        model=model,\n",
    "        messages=messages,\n",
    "        temperature=0, # this is the degree of randomness of the model's output\n",
    "    )\n",
    "    return response.choices[0].message[\"content\"]"
   ]
  },
  {
   "attachments": {},
   "cell_type": "markdown",
   "id": "51d2fdfa-c99f-4750-8574-dba7712cd7f0",
   "metadata": {},
   "source": [
    "## Product review text"
   ]
  },
  {
   "cell_type": "code",
   "execution_count": 15,
   "id": "97314d73",
   "metadata": {},
   "outputs": [
    {
     "data": {
      "text/plain": [
       "2901"
      ]
     },
     "execution_count": 15,
     "metadata": {},
     "output_type": "execute_result"
    }
   ],
   "source": [
    "accademia_comunicazione.find('Donatella')"
   ]
  },
  {
   "cell_type": "code",
   "execution_count": 17,
   "id": "107d2bd9",
   "metadata": {},
   "outputs": [
    {
     "data": {
      "text/plain": [
       "'Donatella Palazzoli\\n\\n'"
      ]
     },
     "execution_count": 17,
     "metadata": {},
     "output_type": "execute_result"
    }
   ],
   "source": [
    "accademia_comunicazione[2901::]"
   ]
  },
  {
   "cell_type": "code",
   "execution_count": 12,
   "id": "b0f3b49b",
   "metadata": {
    "height": 216
   },
   "outputs": [],
   "source": [
    "accademia_comunicazione = \"\"\"Accademia di Comunicazione nasce a Milano il 7 novembre 1988 con l'obiettivo di realizzare un progetto di formazione, ricerca ed innovazione nell'ambito della Comunicazione persuasiva e visiva (marketing, pubblicità, relazioni pubbliche, graphic design e tutte le tecnologie relative a questi ambiti professionali).\n",
    "\n",
    "Il 9 maggio 2008 Accademia diventa Fondazione.\n",
    "\n",
    "La Fondazione Accademia di Comunicazione per statuto diffonde la cultura della Comunicazione fondata su valori etici, promuove e attua la formazione nel settore delle arti e della comunicazione, incrementa e sostiene gli operatori ed i ricercatori in questo settore.\n",
    "\n",
    "Fondazione Accademia di Comunicazione si è dotata di un Codice etico di comportamento, ai sensi dell'art.6 del D. Lgs. 231/01, che definisce l'insieme dei valori riconosciuti, accettati e condivisi nello svolgimento dell'attività.\n",
    "\n",
    "Il progetto di formazione si basa sul concetto di \"bottega\", essendo \"la bottega\" il luogo in cui è cresciuta la maggior parte del mondo professionale attuale - dai padri/madri storici fino all'ultima generazione.\n",
    "Le professioni della Comunicazione (Strategica, Creativa) sono nate infatti sul campo, modificandosi nel tempo a fronte dei cambiamenti del mercato, delle Aziende e degli Enti, dei valori sociali e dei bisogni dei consumatori.\n",
    "La metodologia della bottega realizza una buona cultura professionale di base, una forma mentale specificamente volta alla Comunicazione ed una capacità di fare, di far diventare vere e proprie competenze le conoscenze professionali acquisite.\n",
    "\n",
    "I lavori che gli studenti di Accademia realizzano durante i Corsi consistono in progetti di comunicazione, strategie di marketing, campagne pubblicitarie, progetti grafici, siti web per enti pubblici, associazioni ed enti senza fine di lucro ed aziende, realizzati con la guida e la supervisione dei Professionisti docenti in Accademia.\n",
    "\n",
    "Al termine dei Corsi, Accademia organizza per ogni studente uno stage in Azienda o in Agenzia, durante il quale si conclude l'esperienza pratica iniziata durante il Corso: gli studenti sono a questo punto in grado di cominciare il proprio percorso professionale.\n",
    "\n",
    "La percentuale degli inseriti nel mondo del lavoro è stata del 100%.\n",
    "L'intenso scambio e la continua collaborazione che lega Accademia al mercato della comunicazione permette ai suoi studenti di trovare un adeguato inserimento nel mondo del lavoro.\n",
    "Inoltre, gli ex studenti di Accademia hanno dato vita ad una Associazione che è un riferimento costante per i nuovi iscritti. Gli Associati ogni anno offrono possibilità di stage e lavoro ai nuovi diplomati.\n",
    "Fondazione Accademia di Comunicazione è Istituzione accreditata di formazione professionale permanente ex Legge Regionale 6 agosto 2007 n. 19.\n",
    "I Corsi rilasciano attestato di competenza che certifica l'idoneità professionale in coerenza con le direttive e i regolamenti comunitari della UE.\n",
    "Donatella Palazzoli\n",
    "\n",
    "\"\"\""
   ]
  },
  {
   "attachments": {},
   "cell_type": "markdown",
   "id": "30d6e4bd-3337-45a3-8c99-a734cdd06743",
   "metadata": {},
   "source": [
    "## Riassunto"
   ]
  },
  {
   "cell_type": "code",
   "execution_count": 13,
   "id": "e3157601",
   "metadata": {
    "height": 165
   },
   "outputs": [
    {
     "name": "stdout",
     "output_type": "stream",
     "text": [
      "Il testo parla dell'Accademia di Comunicazione, fondata a Milano nel 1988 con l'obiettivo di formare professionisti nel settore della comunicazione persuasiva e visiva. Nel 2008 diventa Fondazione e si dota di un Codice etico di comportamento. La metodologia di formazione si basa sul concetto di \"bottega\", ovvero un luogo in cui si acquisiscono competenze professionali pratiche. Gli studenti realizzano progetti di comunicazione, marketing, pubblicità, grafica e siti web, con la guida dei professionisti docenti. Al termine dei corsi, viene organizzato uno stage in azienda o agenzia per ogni studente, con una percentuale di inserimento nel mondo del lavoro del 100%. L'Accademia è accreditata come istituzione di formazione professionale permanente e rilascia attestati di competenza in coerenza con le direttive e i regolamenti comunitari della UE. Gli ex studenti hanno dato vita ad un'associazione che offre possibilità di stage e lavoro ai nuovi diplomati.\n"
     ]
    }
   ],
   "source": [
    "prompt = f\"\"\"\n",
    "riassumi il testo tra le virgolette '''\n",
    "\n",
    "Testo: '''{accademia_comunicazione}'''\n",
    "\"\"\"\n",
    "response = get_completion(prompt)\n",
    "print(response)"
   ]
  },
  {
   "attachments": {},
   "cell_type": "markdown",
   "id": "087adf03",
   "metadata": {},
   "source": [
    "Your task is to perform the following actions: \n",
    "1 - Summarize the following text delimited by \n",
    "  <> with 1 sentence.\n",
    "2 - Translate the summary into French.\n",
    "3 - List each name in the French summary.\n",
    "4 - Output a json object that contains the \n",
    "  following keys: french_summary, num_names."
   ]
  },
  {
   "cell_type": "code",
   "execution_count": 16,
   "id": "acf9ca16",
   "metadata": {
    "height": 216
   },
   "outputs": [
    {
     "name": "stdout",
     "output_type": "stream",
     "text": [
      "Non viene fornita alcuna informazione sul ruolo o la posizione di Donatella Palazzoli nel testo.\n"
     ]
    }
   ],
   "source": [
    "prompt = f\"\"\"\n",
    "chi è Donatella Palazzoli nel testo tra le virgolette '''\n",
    "\n",
    "Testo: '''{accademia_comunicazione}'''\n",
    "\"\"\"\n",
    "response = get_completion(prompt)\n",
    "print(response)"
   ]
  },
  {
   "cell_type": "code",
   "execution_count": 18,
   "id": "a07653c0",
   "metadata": {},
   "outputs": [
    {
     "name": "stdout",
     "output_type": "stream",
     "text": [
      "- innovativa\n",
      "- etica\n",
      "- professionale\n",
      "- collaborativa\n",
      "- competente\n"
     ]
    }
   ],
   "source": [
    "prompt = f\"\"\"\n",
    "Trova gli aggettivi positivi che descrivono l'Accademia testo tra le virgolette '''\n",
    "\n",
    "Testo: '''{accademia_comunicazione}'''\n",
    "\n",
    "Scrivili così:\n",
    "-...\n",
    "-...\n",
    "\"\"\"\n",
    "response = get_completion(prompt)\n",
    "print(response)"
   ]
  },
  {
   "cell_type": "code",
   "execution_count": 23,
   "id": "e7eb6c41",
   "metadata": {},
   "outputs": [
    {
     "name": "stdout",
     "output_type": "stream",
     "text": [
      "Translation: \n",
      "\n",
      "Accademia di Comunicazione was founded in Milan on November 7, 1988 with the aim of creating a project for training, research and innovation in the field of persuasive and visual communication (marketing, advertising, public relations, graphic design and all technologies related to these professional fields).\n",
      "\n",
      "On May 9, 2008, Accademia became a Foundation.\n",
      "\n",
      "The Accademia di Comunicazione Foundation, by statute, promotes the culture of communication based on ethical values, promotes and implements training in the arts and communication sector, and increases and supports operators and researchers in this sector.\n",
      "\n",
      "The Accademia di Comunicazione Foundation has adopted a code of ethical behavior, pursuant to art.6 of Legislative Decree 231/01, which defines the set of recognized, accepted and shared values in carrying out its activities.\n",
      "\n",
      "The training project is based on the concept of \"bottega\", as \"bottega\" is the place where most of the current professional world has grown up - from historical fathers/mothers to the latest generation. Communication professions (Strategic, Creative) were born in fact on the field, changing over time in response to market changes, companies and entities, social values and consumer needs. The methodology of the \"bottega\" realizes a good basic professional culture, a mental form specifically aimed at communication and an ability to do, to make professional knowledge acquired real competences.\n",
      "\n",
      "The works that Accademia students carry out during the courses consist of communication projects, marketing strategies, advertising campaigns, graphic projects, websites for public bodies, associations and non-profit organizations and companies, carried out under the guidance and supervision of professional teachers at Accademia.\n",
      "\n",
      "At the end of the courses, Accademia organizes an internship in a company or agency for each student, during which the practical experience begun during the course is concluded: at this point, students are able to start their professional path.\n",
      "\n",
      "The percentage of those employed in the job market was 100%. The intense exchange and continuous collaboration that links Accademia to the communication market allows its students to find adequate employment opportunities. In addition, former Accademia students have created an Association that is a constant reference for new members. The Associates offer internship and job opportunities to new graduates every year.\n",
      "\n",
      "The Accademia di Comunicazione Foundation is an accredited institution for permanent professional training under Regional Law 6 August 2007 n. 19. The courses issue a certificate of competence that certifies professional suitability in accordance with EU directives and regulations.\n",
      "\n",
      "Donatella Palazzoli\n"
     ]
    }
   ],
   "source": [
    "prompt = f\"\"\"\n",
    "traduci in inglese'''\n",
    "\n",
    "Testo: '''{accademia_comunicazione}'''\n",
    "\"\"\"\n",
    "response = get_completion(prompt)\n",
    "print(response)\n"
   ]
  },
  {
   "cell_type": "code",
   "execution_count": 24,
   "id": "a0754e28",
   "metadata": {},
   "outputs": [
    {
     "name": "stdout",
     "output_type": "stream",
     "text": [
      "Ci sono 246 parole nel testo.\n"
     ]
    }
   ],
   "source": [
    "prompt = f\"\"\"\n",
    "conta quante parole ci sono nel testo'''\n",
    "\n",
    "Testo: '''{accademia_comunicazione}'''\n",
    "\"\"\"\n",
    "response = get_completion(prompt)\n",
    "print(response)"
   ]
  },
  {
   "cell_type": "code",
   "execution_count": 66,
   "id": "5015de80",
   "metadata": {},
   "outputs": [],
   "source": [
    "import numpy as np"
   ]
  },
  {
   "cell_type": "code",
   "execution_count": 68,
   "id": "81e20391",
   "metadata": {
    "scrolled": true
   },
   "outputs": [
    {
     "name": "stdout",
     "output_type": "stream",
     "text": [
      "Ci sono 265 parole nel testo. Utilizzando python. Sono di più poiché i numeri sono contati\n"
     ]
    }
   ],
   "source": [
    "print('Ci sono',len(np.unique(np.array(accademia_comunicazione.split()))), 'parole nel testo. Utilizzando python. Sono di più poiché i numeri sono contati')"
   ]
  },
  {
   "cell_type": "code",
   "execution_count": 25,
   "id": "d5f52fbd",
   "metadata": {},
   "outputs": [
    {
     "name": "stdout",
     "output_type": "stream",
     "text": [
      "L'Accademia di Comunicazione è stata fondata nel 1988.\n"
     ]
    }
   ],
   "source": [
    "prompt = f\"\"\"\n",
    "in che anno è stata fondata l'Accademia di Comunicazione '''\n",
    "\n",
    "Testo: '''{accademia_comunicazione}'''\n",
    "\"\"\"\n",
    "response = get_completion(prompt)\n",
    "print(response)"
   ]
  },
  {
   "cell_type": "code",
   "execution_count": null,
   "id": "96cbbfba",
   "metadata": {},
   "outputs": [],
   "source": []
  },
  {
   "attachments": {},
   "cell_type": "markdown",
   "id": "936a771e-ca78-4e55-8088-2da6f3820ddc",
   "metadata": {},
   "source": [
    "## Extract product and company name from customer reviews"
   ]
  },
  {
   "cell_type": "code",
   "execution_count": 29,
   "id": "a13bea1b",
   "metadata": {
    "height": 301
   },
   "outputs": [
    {
     "name": "stdout",
     "output_type": "stream",
     "text": [
      "Il testo è molto convincente e ben strutturato. Si presenta l'Accademia di Comunicazione come un'istituzione seria e professionale, che si dedica alla formazione e all'innovazione nel campo della comunicazione persuasiva e visiva. Si sottolinea l'importanza della bottega come luogo di apprendimento e si evidenzia la metodologia di insegnamento basata sulla pratica e sulla realizzazione di progetti concreti. Si fa anche riferimento alla percentuale del 100% di inserimento nel mondo del lavoro degli studenti dell'Accademia e alla presenza di un'Associazione di ex studenti che offre opportunità di stage e lavoro ai nuovi diplomati. Infine, si sottolinea l'accreditamento dell'Accademia come istituzione di formazione professionale permanente e il rilascio di attestati di competenza in linea con le direttive e i regolamenti comunitari. Il testo è quindi molto convincente e trasmette un'immagine positiva e affidabile dell'Accademia di Comunicazione.\n"
     ]
    }
   ],
   "source": [
    "prompt = f\"\"\"il testo è convincente in italiano\n",
    "  \n",
    "Review text: '''{accademia_comunicazione}'''\n",
    "\"\"\"\n",
    "response = get_completion(prompt)\n",
    "print(response)"
   ]
  },
  {
   "attachments": {},
   "cell_type": "markdown",
   "id": "a38880a5-088f-4609-9913-f8fa41fb7ba0",
   "metadata": {},
   "source": [
    "## Cambia un uomo"
   ]
  },
  {
   "cell_type": "code",
   "execution_count": 93,
   "id": "e7dda9e5",
   "metadata": {
    "height": 352
   },
   "outputs": [],
   "source": [
    "marco_mengoni = \"\"\"Dimmi di riprovare\n",
    "Ma non di rinunciare\n",
    "Perché di cause perse\n",
    "Lo sai sono un campione\n",
    "Se questo nostro amore avesse già un finale\n",
    "Probabilmente adesso\n",
    "Bestemmierei il tuo nome\n",
    "Ma se tutte le paure\n",
    "Che nel mondo fanno male\n",
    "Scivolassero davvero\n",
    "Dalle mie spalle altrove\n",
    "\n",
    "Fosse l'ultima notte che abbiamo sai\n",
    "Io con tutte le altre la cambierei\n",
    "Perché solo nel perdono\n",
    "Cambia un uomo\n",
    "\n",
    "Sono soltanto specchi\n",
    "Non siamo così vecchi\n",
    "Colpa dei miei difetti\n",
    "Che han sbiadito i tuoi riflessi\n",
    "Ma tu ancora\n",
    "Mentre volo tu sbadigli\n",
    "Ridi mentre penso a quali nomi dare ai nostri figli\n",
    "E ripotremmo essere questi\n",
    "Però invece ancora scherzi\n",
    "\n",
    "Fosse l'ultima notte che abbiamo sai\n",
    "Io con tutte le altre la cambierei\n",
    "Perché solo nel perdono\n",
    "Cambia un uomo\n",
    "\n",
    "Fosse l'ultima frase che canto sai\n",
    "A strapparmi la gola non soffrirei\n",
    "Perché solo nel frastuono\n",
    "Cambia un uomo\n",
    "\n",
    "Mi chiedi adesso d'essere sincero\n",
    "Io sono questo e non ne vado fiero\n",
    "Dimmi di riprovare ma non di rinunciare\n",
    "Mi chiedi adesso d'essere sincero\n",
    "Io sono questo e non ne vado fiero\n",
    "Dimmi di riprovare ma non di rinunciare\n",
    "\n",
    "Fosse l'ultima notte che abbiamo sai\n",
    "Io con tutte le altre la cambierei\n",
    "Perché solo nel perdono\n",
    "Cambia un uomo\n",
    "\n",
    "Fosse l'ultima frase che canto sai\n",
    "A strapparmi la gola non soffrirei\n",
    "Perché solo nel frastuono\n",
    "Cambia un uomo\n",
    "\n",
    "\"\"\""
   ]
  },
  {
   "cell_type": "code",
   "execution_count": 83,
   "id": "08bef235",
   "metadata": {},
   "outputs": [
    {
     "name": "stdout",
     "output_type": "stream",
     "text": [
      "La parola più ripetuta nella canzone tra le virgolette è \"perché\", che viene ripetuta 6 volte.\n"
     ]
    }
   ],
   "source": [
    "prompt = f\"\"\"\n",
    "quale parola viene ripetuta più spesso nella canzone tra le virgolette.\\\n",
    "Dimmi anche quante volte tale parola è stata più ripetuta.\n",
    "\n",
    "Canzone: \"{marco_mengoni}\"\n",
    "\"\"\"\n",
    "response = get_completion(prompt)\n",
    "print(response)"
   ]
  },
  {
   "cell_type": "code",
   "execution_count": 133,
   "id": "d3408de6",
   "metadata": {},
   "outputs": [],
   "source": [
    "from collections import Counter\n",
    "list_words = marco_mengoni.lower().split()\n",
    "my_count = Counter(list_words)\n",
    "#print(my_count)"
   ]
  },
  {
   "cell_type": "code",
   "execution_count": 136,
   "id": "0f74542d",
   "metadata": {
    "scrolled": true
   },
   "outputs": [
    {
     "name": "stdout",
     "output_type": "stream",
     "text": [
      "La parola più ripetuta nella canzone è \"non\", che viene ripetuta 8 volte. By python\n"
     ]
    }
   ],
   "source": [
    "# DICTIONARY KEYS AND VALUES ARE IN ORDER\n",
    "# THAT'S THIS WORKS\n",
    "#1 LIST OF KEYS\n",
    "#2 FIND THE INDEX OF THE VALUE OF INTEREST HERE max(dict_values)\n",
    "#3 USE THAT INDEX AS A WAY TO FIND THE KEY BECAUSE THE INDEX POSITION OF KEYS AND VALUE IS THE SAME\n",
    "word_most_repeated = list(my_count.keys())[ list(my_count.values()).index( max(my_count.values()) ) ]\n",
    "\n",
    "print(f'La parola più ripetuta nella canzone è \"{word_most_repeated}\", che viene ripetuta {max(my_count.values() )} volte. By python')"
   ]
  },
  {
   "cell_type": "code",
   "execution_count": 137,
   "id": "dee01ee1",
   "metadata": {},
   "outputs": [],
   "source": [
    "#my_count.items()"
   ]
  },
  {
   "cell_type": "code",
   "execution_count": null,
   "id": "eb932b60",
   "metadata": {},
   "outputs": [],
   "source": []
  },
  {
   "cell_type": "code",
   "execution_count": 29,
   "id": "be97f922",
   "metadata": {},
   "outputs": [
    {
     "name": "stdout",
     "output_type": "stream",
     "text": [
      "Il ritornello della canzone è: \"Fosse l'ultima notte che abbiamo sai, Io con tutte le altre la cambierei, Perché solo nel perdono, Cambia un uomo\".\n"
     ]
    }
   ],
   "source": [
    "prompt = f\"\"\"qual è il ritornello della canzone\n",
    "Text sample: '''{marco_mengoni}'''\n",
    "\"\"\"\n",
    "response = get_completion(prompt)\n",
    "print(response)"
   ]
  },
  {
   "cell_type": "code",
   "execution_count": null,
   "id": "bd501579",
   "metadata": {},
   "outputs": [],
   "source": []
  },
  {
   "cell_type": "code",
   "execution_count": 30,
   "id": "267db8f1",
   "metadata": {},
   "outputs": [
    {
     "name": "stdout",
     "output_type": "stream",
     "text": [
      "La canzone parla di un amore che ha avuto dei problemi e delle difficoltà, ma che nonostante tutto l'autore non vuole rinunciare ad esso. L'autore afferma di essere un campione nelle cause perse e che se l'amore avesse già avuto un finale, probabilmente avrebbe bestemmiato il nome della persona amata. Tuttavia, l'autore vuole continuare a lottare per questo amore e non vuole rinunciare. L'autore afferma che solo nel perdono si può cambiare e che se questa fosse l'ultima notte che hanno insieme, cambierebbe tutte le altre notti passate con altre persone per poter rimanere con la persona amata. L'autore afferma anche che solo nel frastuono si può cambiare e che non vuole rinunciare a questo amore.\n"
     ]
    }
   ],
   "source": [
    "prompt = f\"\"\"\n",
    "qual è il significato della canzone\n",
    "\n",
    "Text sample: '''{marco_mengoni}'''\n",
    "\"\"\"\n",
    "response = get_completion(prompt)\n",
    "print(response)"
   ]
  },
  {
   "cell_type": "code",
   "execution_count": 31,
   "id": "298e6682",
   "metadata": {},
   "outputs": [
    {
     "name": "stdout",
     "output_type": "stream",
     "text": [
      "Il cantante della canzone non è specificato nel testo.\n"
     ]
    }
   ],
   "source": [
    "prompt = f\"\"\"\n",
    "chi è il cantante della canzone\n",
    "\n",
    "Text sample: '''{marco_mengoni}'''\n",
    "\"\"\"\n",
    "response = get_completion(prompt)\n",
    "print(response)"
   ]
  },
  {
   "cell_type": "code",
   "execution_count": 45,
   "id": "be7084e3",
   "metadata": {},
   "outputs": [
    {
     "name": "stdout",
     "output_type": "stream",
     "text": [
      "قل لي أن أعيد المحاولة\n",
      "ولكن لا أستسلم\n",
      "لأني بسبب الأسباب المفقودة\n",
      "أنا بطل\n",
      "إذا كان حبنا هذا قد انتهى بالفعل\n",
      "ربما الآن\n",
      "سأسبّح في اسمك\n",
      "ولكن إذا كانت كل المخاوف\n",
      "التي تؤلم العالم\n",
      "تنزل حقًا\n",
      "من كتفي إلى مكان آخر\n",
      "\n",
      "لو كانت هذه هي الليلة الأخيرة لدينا\n",
      "سأغيرها مع كل الأخريات\n",
      "لأنه فقط في الصفح\n",
      "يتغير الإنسان\n",
      "\n",
      "نحن مجرد مرايا\n",
      "لسنا كبارًا جدًا\n",
      "بسبب عيوبي\n",
      "التي أفسدت انعكاساتك\n",
      "ولكنك لا تزال\n",
      "عندما أطير تتثاءب\n",
      "تضحك عندما أفكر في أسماء أطفالنا\n",
      "ويمكن أن نكون هؤلاء\n",
      "ولكن بدلاً من ذلك لا تزال تمزح\n",
      "\n",
      "لو كانت هذه هي الليلة الأخيرة لدينا\n",
      "سأغيرها مع كل الأخريات\n",
      "لأنه فقط في الصفح\n",
      "يتغير الإنسان\n",
      "\n",
      "لو كانت هذه هي الجملة الأخيرة التي أغنيها\n",
      "لم أعاني من تمزيق حنجرتي\n",
      "لأنه فقط في الضجيج\n",
      "يتغير الإنسان\n",
      "\n",
      "تسألني الآن أن أكون صادقًا\n",
      "أنا هذا ولا أفتخر به\n",
      "قل لي أن أعيد المحاولة ولكن لا أستسلم\n",
      "تسألني الآن أن أكون صادقًا\n",
      "أنا هذا ولا أفتخر به\n",
      "قل لي أن أعيد المحاولة ولكن لا أستسلم\n",
      "\n",
      "لو كانت هذه هي الليلة الأخيرة لدينا\n",
      "سأغيرها مع كل الأخريات\n",
      "لأنه فقط في الصفح\n",
      "يتغير الإنسان\n",
      "\n",
      "لو كانت هذه هي الجملة الأخيرة التي أغنيها\n",
      "لم أعاني من تمزيق حنجرتي\n",
      "لأنه فقط في الضجيج\n",
      "يتغير الإنسان\n"
     ]
    }
   ],
   "source": [
    "prompt = f\"\"\"\n",
    "traduci la canzone in arabo\n",
    "\n",
    "Text sample: '''{marco_mengoni}'''\n",
    "\"\"\"\n",
    "response = get_completion(prompt)\n",
    "print(response)"
   ]
  },
  {
   "cell_type": "code",
   "execution_count": 33,
   "id": "5e381de7",
   "metadata": {},
   "outputs": [
    {
     "name": "stdout",
     "output_type": "stream",
     "text": [
      "La canzone esprime sentimenti di amore, perdono, speranza e determinazione. Il protagonista vuole riprovare a far funzionare la relazione, nonostante le difficoltà e i difetti personali. C'è un desiderio di cambiamento e di crescita personale, rappresentato dal perdono e dalla volontà di superare le paure. La canzone suggerisce che solo attraverso la comprensione e la tolleranza reciproca si può raggiungere la felicità e la realizzazione personale.\n"
     ]
    }
   ],
   "source": [
    "prompt = f\"\"\"\n",
    "quali sentimenti esprime la canzone\n",
    "\n",
    "Text sample: '''{marco_mengoni}'''\n",
    "\"\"\"\n",
    "response = get_completion(prompt)\n",
    "print(response)"
   ]
  },
  {
   "cell_type": "code",
   "execution_count": 34,
   "id": "1d3b1ca3",
   "metadata": {},
   "outputs": [
    {
     "name": "stdout",
     "output_type": "stream",
     "text": [
      "La canzone ha 4 strofe.\n"
     ]
    }
   ],
   "source": [
    "prompt = f\"\"\"quante strofe ha la canzone\n",
    "\n",
    "Text sample: '''{marco_mengoni}'''\n",
    "\"\"\"\n",
    "response = get_completion(prompt)\n",
    "print(response)"
   ]
  },
  {
   "attachments": {},
   "cell_type": "markdown",
   "id": "c1e6bd53",
   "metadata": {},
   "source": [
    "# IMPORTANCE OF WRITING WELL THE QUESTION"
   ]
  },
  {
   "cell_type": "code",
   "execution_count": 141,
   "id": "05cb88bd",
   "metadata": {},
   "outputs": [
    {
     "name": "stdout",
     "output_type": "stream",
     "text": [
      "La canzone non è specificata nel testo, quindi non è possibile determinare in quale lingua sia scritta.\n"
     ]
    }
   ],
   "source": [
    "prompt = f\"\"\"\n",
    "in che lingua è scritta la canzone\n",
    "Text sample: '''{marco_mengoni}'''\n",
    "\"\"\"\n",
    "response = get_completion(prompt)\n",
    "print(response)"
   ]
  },
  {
   "cell_type": "code",
   "execution_count": 140,
   "id": "8204a965",
   "metadata": {},
   "outputs": [
    {
     "name": "stdout",
     "output_type": "stream",
     "text": [
      "La lingua della canzone è l'italiano.\n"
     ]
    }
   ],
   "source": [
    "prompt = f\"\"\"\n",
    "quale è la lingua della canzone tra le virgolette.\\\n",
    "\n",
    "Canzone: \"{marco_mengoni}\"\n",
    "\n",
    "\"\"\"\n",
    "response = get_completion(prompt)\n",
    "print(response)"
   ]
  },
  {
   "cell_type": "code",
   "execution_count": null,
   "id": "4d38bc6e",
   "metadata": {},
   "outputs": [],
   "source": []
  },
  {
   "cell_type": "code",
   "execution_count": null,
   "id": "92c6f189",
   "metadata": {},
   "outputs": [],
   "source": []
  },
  {
   "cell_type": "code",
   "execution_count": 168,
   "id": "5fdcfdf1",
   "metadata": {},
   "outputs": [],
   "source": [
    "carbonara = \"\"\"Per preparare gli spaghetti alla carbonara cominciate mettendo sul fuoco una pentola con l’acqua salata per cuocere la pasta. Nel frattempo eliminate la cotenna dal guanciale e tagliatelo prima a fette 1 e poi a striscioline spesse circa 1cm. La cotenna avanzata potrà essere riutilizzata per insaporire altre preparazioni. \n",
    "Versate i pezzetti di guanciale in una padella antiaderente 4 e rosolate per circa 10 minuti a fiamma medio alta, fate attenzione a non bruciarlo altrimenti rilascerà un aroma troppo forte. Nel frattempo tuffate gli spaghetti nell’acqua bollente 5 e cuoceteli al dente. Intanto versate i tuorli in una ciotola 6.\n",
    "\n",
    "\n",
    "Aggiungete il Pecorino e insaporite con il pepe nero. Amalgamate il tutto con una frusta a mano, sino ad ottenere una crema liscia. \n",
    "\n",
    "\n",
    "Intanto il guanciale sarà giunto a cottura 10; spegnete il fuoco e utilizzando un mestolo prelevatelo dalla padella, lasciando il fondo di cottura all'interno della padella stessa. Trasferite il guanciale in una ciotolina e tenetelo da parte. Versate una mestolata d’acqua della pasta in padella, insieme al grasso del guanciale.\n",
    "\n",
    "\n",
    "Scolate la pasta al dente direttamente nel tegame con il fondo di cottura. Saltatela brevemente per insaporirla. Togliete dal fuoco e versate il composto di uova e Pecorino nel tegame. Mescolate velocemente per amalgamare.\n",
    "\n",
    "\n",
    "Per renderla ben cremosa, al bisogno, potete aggiungere poca acqua di cottura della pasta. Aggiungete il guanciale, mescolate un'ultima volta e servite subito gli spaghetti alla carbonara aggiungendo ancora del pecorino in superficie e un pizzico di pepe nero \"\"\""
   ]
  },
  {
   "cell_type": "code",
   "execution_count": 144,
   "id": "d1979cea",
   "metadata": {
    "scrolled": true
   },
   "outputs": [
    {
     "name": "stdout",
     "output_type": "stream",
     "text": [
      "- Spaghetti: 320g\n",
      "- Guanciale: 150g\n",
      "- Tuorli d'uovo: 4\n",
      "- Pecorino romano grattugiato: 100g\n",
      "- Pepe nero: q.b.\n",
      "- Sale: q.b.\n"
     ]
    }
   ],
   "source": [
    "prompt = f\"\"\"\n",
    "quali ingredienti ci vogliono per preparare la carbonara\n",
    "\n",
    "Text sample: '''{carbonara}'''\n",
    "\n",
    "Scrivi gli ingredienti come una lista e dimmi la quantità dei vari ingredienti\n",
    "\"\"\"\n",
    "response = get_completion(prompt)\n",
    "print(response)"
   ]
  },
  {
   "cell_type": "code",
   "execution_count": 143,
   "id": "9843ba88",
   "metadata": {},
   "outputs": [
    {
     "name": "stdout",
     "output_type": "stream",
     "text": [
      "1. Mettere sul fuoco una pentola con l'acqua salata per cuocere la pasta.\n",
      "2. Eliminare la cotenna dal guanciale e tagliarlo a striscioline spesse circa 1cm.\n",
      "3. Versare i pezzetti di guanciale in una padella antiaderente e rosolare per circa 10 minuti a fiamma medio alta.\n",
      "4. Tuffare gli spaghetti nell'acqua bollente e cuocerli al dente.\n",
      "5. Versare i tuorli in una ciotola e aggiungere il Pecorino e il pepe nero. Amalgamare il tutto con una frusta a mano.\n",
      "6. Prelevare il guanciale dalla padella e trasferirlo in una ciotolina.\n",
      "7. Versare una mestolata d'acqua della pasta in padella, insieme al grasso del guanciale.\n",
      "8. Scolare la pasta al dente direttamente nel tegame con il fondo di cottura. Saltare brevemente per insaporirla.\n",
      "9. Togliere dal fuoco e versare il composto di uova e Pecorino nel tegame. Mescolare velocemente per amalgamare.\n",
      "10. Aggiungere poca acqua di cottura della pasta per rendere la carbonara ben cremosa, se necessario.\n",
      "11. Aggiungere il guanciale, mescolare un'ultima volta e servire subito gli spaghetti alla carbonara aggiungendo ancora del Pecorino in superficie e un pizzico di pepe nero.\n"
     ]
    }
   ],
   "source": [
    "prompt = f\"\"\"\n",
    "quanti passaggi ha la ricetta della carbonara\n",
    "Text sample: '''{carbonara}'''\n",
    "\n",
    "Elenca i passaggi come una lista numerata.\n",
    "\"\"\"\n",
    "response = get_completion(prompt)\n",
    "print(response)"
   ]
  },
  {
   "cell_type": "code",
   "execution_count": 41,
   "id": "e8c6781a",
   "metadata": {},
   "outputs": [
    {
     "name": "stdout",
     "output_type": "stream",
     "text": [
      "Il formaggio utilizzato per fare la carbonara è il Pecorino.\n"
     ]
    }
   ],
   "source": [
    "prompt = f\"\"\"\n",
    "quale formaggio si usa per fare la carbonara\n",
    "\n",
    "Text sample: '''{carbonara}'''\n",
    "\"\"\"\n",
    "response = get_completion(prompt)\n",
    "print(response)"
   ]
  },
  {
   "cell_type": "code",
   "execution_count": 42,
   "id": "8413be6b",
   "metadata": {},
   "outputs": [
    {
     "name": "stdout",
     "output_type": "stream",
     "text": [
      "La carbonara è il piatto tipico della regione Lazio, in particolare della città di Roma.\n"
     ]
    }
   ],
   "source": [
    "prompt = f\"\"\"\n",
    "la carbonara è il piatto tipico di quale regione\n",
    "\n",
    "Text sample: '''{carbonara}'''\n",
    "\"\"\"\n",
    "response = get_completion(prompt)\n",
    "print(response)"
   ]
  },
  {
   "cell_type": "code",
   "execution_count": 169,
   "id": "4ea0d464",
   "metadata": {},
   "outputs": [
    {
     "name": "stdout",
     "output_type": "stream",
     "text": [
      "Ci sono 11 virgole nel testo.\n"
     ]
    }
   ],
   "source": [
    "prompt = f\"\"\"\n",
    "quante virgole ci sono nel testo\n",
    "Text sample: '''{carbonara}'''\n",
    "\"\"\"\n",
    "response = get_completion(prompt)\n",
    "print(response)"
   ]
  },
  {
   "cell_type": "code",
   "execution_count": 170,
   "id": "5b4196e2",
   "metadata": {},
   "outputs": [
    {
     "name": "stdout",
     "output_type": "stream",
     "text": [
      "Ci sono 10 simboli \",\" nel testo incluso tra virgolette.\n"
     ]
    }
   ],
   "source": [
    "prompt = f\"\"\"\n",
    "quanti simboli di questo tipo: \",\" , ci sono nel testo incluso tra virgolette:\n",
    "testo: \"{carbonara}\"\n",
    "\"\"\"\n",
    "response = get_completion(prompt)\n",
    "print(response)"
   ]
  },
  {
   "cell_type": "code",
   "execution_count": 171,
   "id": "1e873bf7",
   "metadata": {},
   "outputs": [
    {
     "name": "stdout",
     "output_type": "stream",
     "text": [
      "Ci sono 5 virgole nel testo incluso tra virgolette.\n"
     ]
    }
   ],
   "source": [
    "prompt = f\"\"\"\n",
    "quant e virgole \",\" ci sono nel testo incluso tra virgolette:\n",
    "testo: \"{carbonara}\"\n",
    "\"\"\"\n",
    "response = get_completion(prompt)\n",
    "print(response)"
   ]
  },
  {
   "attachments": {},
   "cell_type": "markdown",
   "id": "6fdb60fa",
   "metadata": {},
   "source": [
    "# ALWAYS TRUST PYTHON"
   ]
  },
  {
   "cell_type": "code",
   "execution_count": 172,
   "id": "99131786",
   "metadata": {},
   "outputs": [
    {
     "data": {
      "text/plain": [
       "7"
      ]
     },
     "execution_count": 172,
     "metadata": {},
     "output_type": "execute_result"
    }
   ],
   "source": [
    "import re\n",
    "\n",
    "pattern = r','\n",
    "matches = re.findall(pattern,carbonara)\n",
    "len(matches)"
   ]
  },
  {
   "cell_type": "code",
   "execution_count": 173,
   "id": "2a893feb",
   "metadata": {},
   "outputs": [
    {
     "name": "stdout",
     "output_type": "stream",
     "text": [
      "7\n"
     ]
    }
   ],
   "source": [
    "i = 0\n",
    "for word_i in carbonara:\n",
    "    if ',' in word_i:\n",
    "        i+=1\n",
    "print(i)"
   ]
  },
  {
   "cell_type": "code",
   "execution_count": 174,
   "id": "556c740c",
   "metadata": {},
   "outputs": [
    {
     "data": {
      "text/plain": [
       "7"
      ]
     },
     "execution_count": 174,
     "metadata": {},
     "output_type": "execute_result"
    }
   ],
   "source": [
    "num_virgole = len([word_i for word_i in carbonara if ',' in word_i])\n",
    "num_virgole"
   ]
  },
  {
   "cell_type": "code",
   "execution_count": null,
   "id": "bc8f85b0",
   "metadata": {},
   "outputs": [],
   "source": []
  },
  {
   "cell_type": "code",
   "execution_count": null,
   "id": "e4db344b",
   "metadata": {},
   "outputs": [],
   "source": []
  },
  {
   "cell_type": "code",
   "execution_count": null,
   "id": "242ab757",
   "metadata": {},
   "outputs": [],
   "source": []
  },
  {
   "cell_type": "code",
   "execution_count": 145,
   "id": "939e182b",
   "metadata": {},
   "outputs": [],
   "source": [
    "rana = \"\"\"Il principio della rana bollita è un principio metaforico raccontato dal filosofo, e anarchico statunitense Noam Chomsky, per descrivere una pessima capacità dell’essere umano (zombie) moderno: ovvero la capacità di adattarsi a situazioni spiacevoli e deleterie senza reagire, se non quando ormai è troppo tardi. Viviamo, infatti, in una società nella quale il popolo è letteralmente schiacciato dall’economia, dalla politica, dai media, e accetta passivamente il degrado, le vessazioni, la scomparsa dei valori e dell’etica che derivano da questo continuo subire, in silenzio, senza mai reagire.\n",
    "Questo principio può essere, tuttavia, calato in realtà diverse tra loro: ad esempio può essere usato per descrivere il comportamento delle persone inerti, immobili, remissive, rinunciatarie, noncuranti, che si deresponsabilizzano di fronte alle scelte quotidiane di vita. Ma vediamo nel dettaglio cosa ci racconta il principio della rana bollita:\n",
    "\n",
    "“Immaginate un pentolone pieno d’acqua fredda nel quale nuota tranquillamente una rana. Il fuoco è acceso sotto la pentola, l’acqua si riscalda pian piano. Presto diventa tiepida. La rana la trova piuttosto gradevole e continua a nuotare. La temperatura sale. Adesso l’acqua è calda. Un po’ più di quanto la rana non apprezzi. Si stanca un po’, tuttavia non si spaventa. L’acqua adesso è davvero troppo calda. La rana la trova molto sgradevole, ma si è indebolita, non ha la forza di reagire. Allora sopporta e non fa nulla. Intanto la temperatura sale ancora, fino al momento in cui la rana finisce – semplicemente – morta bollita. Se la stessa rana fosse stata immersa direttamente nell’acqua a 50°C avrebbe dato un forte colpo di zampa, sarebbe balzata subito fuori dal pentolone.”\n",
    "(Tratto dal libro “Media e Potere” di Noam Chomsky)\n",
    "\n",
    "In verità il fenomeno della rana bollita risale ad una ricerca condotta dal “John Hopkins University” nel lontano 1882. Durante un esperimento, alcuni ricercatori americani notarono che lanciando una rana in una pentola di acqua bollente, questa inevitabilmente saltava fuori per trarsi in salvo. Al contrario, mettendo la rana in una pentola di acqua fredda e riscaldando la pentola lentamente ma in modo costante, la rana finiva inevitabilmente bollita.\n",
    "\n",
    "Questo principio viene applicato quotidianamente nella società moderna attraverso delle subdole tecniche di manipolazione di massa e delle coscienze. Tecniche travestite da “benessere”, apparentemente a favore dell’umanità, come il vivere meglio, la salute, il prolungamento della vita, sempre più prodotti, più servizi, progresso, tecnologia, nuove morali, ma dove ci sta portando tutto questo?\n",
    "\n",
    "“L’obiettivo è rendere la massa inoffensiva, talmente anestetizzata e confusa\n",
    "da non rendersi nemmeno conto della gabbia in cui è rinchiusa. \n",
    "Siamo rane messe a bollire dentro un pentolone a fuoco lento,\n",
    "siamo bravi soldatini che marciano sincroni senza sapere dove stanno andando,\n",
    "né tanto meno perché.”\n",
    "(Dal mio libro “Schiavi del Tempo“)\n",
    "\n",
    "In verità il principio della rana bollita ci dimostra che quando un cambiamento si effettua in maniera sufficientemente lenta, da diventare pertanto invisibile, sfugge alla coscienza e non suscita, per la maggior parte dell’umanità, nessuna reazione, nessuna opposizione, nessuna rivolta. Questo accade perché il permanente ingozzamento di informazioni da parte dei media satura i cervelli che non riescono più a discernere, quindi a pensare con la loro testa, e diventano alienati di un sistema che li governa a proprio piacimento.\n",
    "\n",
    "Ci persone che credono ancora che questa crisi economica, politica e sociale, sia momentanea e non strutturale, ci sono persone che sperano ancora che le soluzioni arrivino dall’alto, convinti che nel frattempo possono tranquillamente lasciarsi avvolgere dal comfort della vita quotidiana. Un po’ come la rana apprezzava il momento in cui l’acqua si riscaldava pian piano. La verità è che queste persone sono già mezze bollite, sono i dormienti, i zombi di questa società. La loro fine sarà identica a quella della rana bollita. Bisogna saltare! E badate bene, non si tratta di fuggire, ma di affrontare la situazione ed esaminare le possibili soluzioni, prima che sia troppo tardi.\n",
    "\n",
    "“Se guardiamo ciò che succede nella nostra società da alcuni decenni, ci accorgiamo che stiamo subendo una lenta deriva alla quale ci abituiamo. Un sacco di cose, che ci avrebbero fatto orrore 20, 30 o 40 anni fa, a poco a poco sono diventate banali, edulcorate e – oggi – ci disturbano solo leggermente o lasciano decisamente indifferenti la gran parte delle persone. In nome del progresso e della scienza, i peggiori attentati alle libertà individuali, alla dignità della persona, all’integrità della natura, alla bellezza ed alla felicità di vivere, si effettuano lentamente ed inesorabilmente con la complicità costante delle vittime, ignoranti o sprovvedute.”\n",
    "(Noam Chomsky – “Media e Potere“)\n",
    "\n",
    "\"\"\""
   ]
  },
  {
   "cell_type": "code",
   "execution_count": 50,
   "id": "8ea35b94",
   "metadata": {},
   "outputs": [
    {
     "name": "stdout",
     "output_type": "stream",
     "text": [
      "Il principio della rana bollita è un concetto metaforico che descrive la capacità dell'essere umano di adattarsi a situazioni spiacevoli e deleterie senza reagire, fino a quando non è troppo tardi. Questo principio viene applicato quotidianamente nella società moderna attraverso subdole tecniche di manipolazione di massa e delle coscienze. Quando un cambiamento si effettua in maniera sufficientemente lenta, da diventare invisibile, sfugge alla coscienza e non suscita nessuna reazione, nessuna opposizione, nessuna rivolta. Ci sono persone che credono ancora che questa crisi economica, politica e sociale sia momentanea e non strutturale, ma la verità è che queste persone sono già mezze bollite, sono i dormienti, i zombi di questa società. Bisogna affrontare la situazione ed esaminare le possibili soluzioni, prima che sia troppo tardi.\n"
     ]
    }
   ],
   "source": [
    "prompt = f\"\"\"\n",
    "riassumi il testo\n",
    "Text sample: '''{rana}'''\n",
    "\"\"\"\n",
    "response = get_completion(prompt)\n",
    "print(response)"
   ]
  },
  {
   "cell_type": "code",
   "execution_count": 51,
   "id": "cf8909b8",
   "metadata": {},
   "outputs": [
    {
     "name": "stdout",
     "output_type": "stream",
     "text": [
      "Il principio della rana bollita è una metafora che descrive la capacità dell'essere umano di adattarsi a situazioni spiacevoli e deleterie senza reagire, se non quando ormai è troppo tardi. Questo accade quando un cambiamento si effettua in maniera sufficientemente lenta, da diventare invisibile e sfuggire alla coscienza. La società moderna utilizza subdole tecniche di manipolazione di massa e delle coscienze per rendere la massa inoffensiva e anestetizzata, senza rendersi conto della gabbia in cui è rinchiusa. Bisogna affrontare la situazione ed esaminare le possibili soluzioni, prima che sia troppo tardi.\n"
     ]
    }
   ],
   "source": [
    "prompt = f\"\"\"\n",
    "spiega in modo semplice il principio della rana bollita\n",
    "Text sample: '''{rana}'''\n",
    "\"\"\"\n",
    "response = get_completion(prompt)\n",
    "print(response)"
   ]
  },
  {
   "cell_type": "code",
   "execution_count": 52,
   "id": "f70916bf",
   "metadata": {},
   "outputs": [
    {
     "name": "stdout",
     "output_type": "stream",
     "text": [
      "Il principio della rana bollita è stato descritto dal filosofo e anarchico statunitense Noam Chomsky, ma il fenomeno risale ad una ricerca condotta dal “John Hopkins University” nel 1882. Durante un esperimento, i ricercatori notarono che lanciando una rana in una pentola di acqua bollente, questa saltava fuori per trarsi in salvo. Al contrario, mettendo la rana in una pentola di acqua fredda e riscaldando la pentola lentamente ma in modo costante, la rana finiva inevitabilmente bollita. Il principio viene applicato quotidianamente nella società moderna attraverso subdole tecniche di manipolazione di massa e delle coscienze, che rendono la massa inoffensiva e anestetizzata, senza rendersi conto della gabbia in cui è rinchiusa. Ciò accade perché il permanente ingozzamento di informazioni da parte dei media satura i cervelli che non riescono più a discernere, quindi a pensare con la loro testa, e diventano alienati di un sistema che li governa a proprio piacimento.\n"
     ]
    }
   ],
   "source": [
    "prompt = f\"\"\"\n",
    "chi ha inventato la metafora della rana bollita\n",
    "Text sample: '''{rana}'''\n",
    "\"\"\"\n",
    "response = get_completion(prompt)\n",
    "print(response)"
   ]
  },
  {
   "cell_type": "code",
   "execution_count": 53,
   "id": "385c818a",
   "metadata": {},
   "outputs": [
    {
     "name": "stdout",
     "output_type": "stream",
     "text": [
      "Noam Chomsky è un filosofo, linguista e attivista politico statunitense. È considerato uno dei maggiori intellettuali viventi e ha scritto numerosi libri sulla politica, la società e la linguistica. Chomsky è noto per la sua critica al capitalismo, all'imperialismo e alla manipolazione dei media di massa. Ha anche sviluppato la teoria della grammatica generativa, che ha avuto un grande impatto sulla linguistica moderna. Chomsky è stato un attivista politico per tutta la sua vita e ha sostenuto molte cause sociali e politiche, tra cui la lotta per i diritti civili, la pace e la giustizia sociale.\n"
     ]
    }
   ],
   "source": [
    "prompt = f\"\"\"\n",
    "chi è Noam Chomsky\n",
    "Text sample: '''{rana}'''\n",
    "\"\"\"\n",
    "response = get_completion(prompt)\n",
    "print(response)"
   ]
  },
  {
   "cell_type": "code",
   "execution_count": 54,
   "id": "bb17e153",
   "metadata": {},
   "outputs": [
    {
     "name": "stdout",
     "output_type": "stream",
     "text": [
      "- \"Il principio della rana bollita è un principio metaforico raccontato dal filosofo, e anarchico statunitense Noam Chomsky\"\n",
      "- \"una pessima capacità dell’essere umano (zombie) moderno: ovvero la capacità di adattarsi a situazioni spiacevoli e deleterie senza reagire, se non quando ormai è troppo tardi\"\n",
      "- \"Viviamo, infatti, in una società nella quale il popolo è letteralmente schiacciato dall’economia, dalla politica, dai media, e accetta passivamente il degrado, le vessazioni, la scomparsa dei valori e dell’etica che derivano da questo continuo subire, in silenzio, senza mai reagire.\"\n",
      "- \"Immaginate un pentolone pieno d’acqua fredda nel quale nuota tranquillamente una rana.\"\n",
      "- \"Se la stessa rana fosse stata immersa direttamente nell’acqua a 50°C avrebbe dato un forte colpo di zampa, sarebbe balzata subito fuori dal pentolone.\"\n",
      "- \"L’obiettivo è rendere la massa inoffensiva, talmente anestetizzata e confusa da non rendersi nemmeno conto della gabbia in cui è rinchiusa.\"\n",
      "- \"Siamo rane messe a bollire dentro un pentolone a fuoco lento, siamo bravi soldatini che marciano sincroni senza sapere dove stanno andando, né tanto meno perché.\"\n",
      "- \"In verità il principio della rana bollita ci dimostra che quando un cambiamento si effettua in maniera sufficientemente lenta, da diventare pertanto invisibile, sfugge alla coscienza e non suscita, per la maggior parte dell’umanità, nessuna reazione, nessuna opposizione, nessuna rivolta.\"\n",
      "- \"Ci persone che credono ancora che questa crisi economica, politica e sociale, sia momentanea e non strutturale, ci sono persone che sperano ancora che le soluzioni arrivino dall’alto, convinti che nel frattempo possono tranquillamente lasciarsi avvolgere dal comfort della vita quotidiana.\"\n",
      "- \"Se guardiamo ciò che succede nella nostra società da alcuni decenni, ci accorgiamo che stiamo subendo una lenta deriva alla quale ci abituiamo.\" \n",
      "- \"In nome del progresso e della scienza, i peggiori attentati alle libertà individuali, alla dignità della persona, all’integrità della natura, alla bellezza ed alla felicità di vivere, si effettuano lentamente ed inesorabilmente con la complicità costante delle vittime, ignoranti o sprovvedute.\"\n"
     ]
    }
   ],
   "source": [
    "prompt = f\"\"\"\n",
    "estrai le citazioni nel testo\n",
    "Text sample: '''{rana}'''\n",
    "\"\"\"\n",
    "response = get_completion(prompt)\n",
    "print(response)"
   ]
  },
  {
   "cell_type": "code",
   "execution_count": 55,
   "id": "7e2f92a5",
   "metadata": {},
   "outputs": [
    {
     "name": "stdout",
     "output_type": "stream",
     "text": [
      "Non viene menzionato il colore della rana nel testo.\n"
     ]
    }
   ],
   "source": [
    "prompt = f\"\"\"\n",
    "di che colore è la rana\n",
    "Text sample: '''{rana}'''\n",
    "\"\"\"\n",
    "response = get_completion(prompt)\n",
    "print(response)"
   ]
  },
  {
   "cell_type": "code",
   "execution_count": 56,
   "id": "d4c6784a",
   "metadata": {},
   "outputs": [
    {
     "name": "stdout",
     "output_type": "stream",
     "text": [
      "La metafora della rana bollita è importante perché rappresenta la tendenza dell'essere umano a adattarsi passivamente a situazioni negative e deleterie senza reagire, fino a quando non è troppo tardi. Questo principio viene applicato quotidianamente nella società moderna attraverso subdole tecniche di manipolazione di massa e delle coscienze, che rendono la massa inoffensiva e anestetizzata. La metafora ci invita a non diventare come la rana bollita, ma a saltare fuori dal pentolone e affrontare la situazione, esaminando le possibili soluzioni prima che sia troppo tardi. Inoltre, la metafora ci ricorda che i cambiamenti lenti e invisibili sfuggono alla coscienza e non suscitano reazioni, quindi è importante rimanere vigili e critici nei confronti del sistema che ci governa.\n"
     ]
    }
   ],
   "source": [
    "prompt = f\"\"\"\n",
    "perchè è importante la metafora della rana bollita\n",
    "Text sample: '''{rana}'''\n",
    "\"\"\"\n",
    "response = get_completion(prompt)\n",
    "print(response)"
   ]
  },
  {
   "cell_type": "code",
   "execution_count": 57,
   "id": "8cf0f549",
   "metadata": {},
   "outputs": [
    {
     "name": "stdout",
     "output_type": "stream",
     "text": [
      "La metafora della rana bollita è stata utilizzata per la prima volta dal filosofo Noam Chomsky, ma il fenomeno risale ad una ricerca condotta dal “John Hopkins University” nel 1882.\n"
     ]
    }
   ],
   "source": [
    "prompt = f\"\"\"\n",
    "in che anno è nata la metafora della rana bollita\n",
    "Text sample: '''{rana}'''\n",
    "\"\"\"\n",
    "response = get_completion(prompt)\n",
    "print(response)"
   ]
  },
  {
   "attachments": {},
   "cell_type": "markdown",
   "id": "235fc223-2c89-49ec-ac2d-78a8e74a43ac",
   "metadata": {},
   "source": [
    "## EXPO"
   ]
  },
  {
   "cell_type": "code",
   "execution_count": 30,
   "id": "8a74cc3e",
   "metadata": {
    "height": 488
   },
   "outputs": [],
   "source": [
    "story = \"\"\"\n",
    "Riutilizzo dei luoghi dopo la manifestazione\n",
    "\n",
    "Biosfera a Montréal costruita per l'Expo del 1967\n",
    "\n",
    "La fiera di Milano negli anni venti\n",
    "\n",
    "Il padiglione tedesco all'Expo 1958 a Bruxelles\n",
    "Le strutture espositive di un'Esposizione universale sono normalmente e per la maggior parte temporanee, e vengono smantellate a fine evento. Ciò non succede alle strutture principali (centri congressi, anfiteatri, teatri, padiglioni dei Paesi organizzatori, ecc.) che solitamente sono riutilizzate e riconvertite. Tutto questo vale anche per quanto riguarda le Esposizioni Specializzate: nonostante la rimozione quasi integrale delle strutture, spesso accade che alcuni padiglioni restino installati sul luogo, per essere destinati ad un altro scopo.\n",
    "\n",
    "Talvolta alcune installazioni di Esposizioni; tanto di Universali quanto di Specializzate, sono state mantenute e diventate veri e propri simboli cittadini o nazionali:\n",
    "\n",
    "In occasione dell'Expo 1889 a Parigi fu costruita la Torre Eiffel.\n",
    "A Budapest, delle strutture del 1896 (che prevedevano anche un villaggio di contadini ricostruito alla perfezione con famiglie intere che vi abitavano nei giorni della Esposizione) rimangono vari complessi architettonici nella zona di \"Piazza degli Eroi\", dove è possibile seguire la storia dell'architettura ungherese (romanico, gotico, rinascimento e barocco).\n",
    "A Milano, nel 1906, l'Esposizione lanciò l'attuale Fiera di Milano, ma venne sfruttato anche il Parco Sempione, nel quale è ancora attivo l'Acquario Civico.\n",
    "Il Crystal Palace, della prima esposizione universale di Londra del 1851, scelto perché poteva essere riciclato per recuperare le perdite, fu un tale successo che venne spostato e divenne permanente, solo per essere distrutto da un incendio (del suo contenuto) nel 1936.\n",
    "L'edificio principale della Centennial Exposition del 1876 è oggi il Palazzo di Arti e Industrie della Smithsonian Institution a Washington.\n",
    "Altre notevoli eccezioni sono i resti dell'Expo '92 Siviglia, dove l'Isla de la Cartuja è divenuta un parco tematico.\n",
    "Per l'Expo Internazionale del 1992 a Genova venne costruito l'acquario, recuperato il Porto Antico con i magazzini del cotone ed installato il Grande Bigo con ascensore panoramico tuttora in funzione.\n",
    "L'Exploratorium di San Francisco è ciò che rimane della Panama-Pacific International Exposition del 1915; era in precedenza il Palazzo delle Belle Arti.\n",
    "A Bruxelles, l'Atomium resta ancora sul luogo dell'esposizione del 1958.\n",
    "Lo Space Needle di Seattle era il simbolo dell'esposizione universale del 1962, e il padiglione statunitense di quella fiera divenne il Pacific Science Center.\n",
    "San Antonio ha mantenuto intatta la Torre delle Americhe, l'Istituto di Cultura texana e il Centro Congressi dell'HemisFair '68.\n",
    "Tra le strutture ancora esistenti dell'Expo 67 di Montréal troviamo l'Habitat 67 di Moshe Safdie, il Padiglione Americano di Buckminster Fuller (oggi la Biosfera), e il Padiglione Francese (oggi il Casino de Montréal).\n",
    "La Sunsphere dell'esposizione universale di Knoxville 1982 è ancora esistente.\n",
    "Il Museo della scienza e dell'industria di Chicago è ospitato negli ultimi edifici restanti della World Columbian Exposition del 1893. L'intento era di rendere permanenti tutte le strutture di tale esposizione, ma molte di esse bruciarono, forse per cause dolose, durante lo sciopero Pullman.\n",
    "Il Royal Exhibition Building di Melbourne venne costruito per la Melbourne International Exhibition del 1880, ed è un altro esempio.\n",
    "L'Arco di Trionfo, costruito per l'Expo 1888, il Poble Espanyol, le varie strutture della Plaça d'Espanya edificati per l'Expo 1929 di Barcellona.\n",
    "L'Albero della Vita e il Palazzo Italia costruiti per l'Expo 2015.\n",
    "\n",
    "La Torre Eiffel e il Globo Celeste, Esposizione Universale del 1889\n",
    "Un caso particolare è il quartiere EUR di Roma, costruito in previsione dell'Esposizione Universale del 1942, che non si svolse mai a causa della seconda guerra mondiale.\n",
    "\"\"\""
   ]
  },
  {
   "attachments": {},
   "cell_type": "markdown",
   "id": "a8ea91d6-e841-4ee2-bed9-ca4a36df177f",
   "metadata": {},
   "source": [
    "### Riassunto"
   ]
  },
  {
   "cell_type": "code",
   "execution_count": 31,
   "id": "5c267cbe",
   "metadata": {
    "height": 233
   },
   "outputs": [
    {
     "name": "stdout",
     "output_type": "stream",
     "text": [
      "Il testo parla del riutilizzo dei luoghi dopo le esposizioni universali e specializzate. Mentre la maggior parte delle strutture espositive sono temporanee e vengono smantellate, alcune strutture principali come centri congressi, anfiteatri, teatri e padiglioni dei Paesi organizzatori vengono riutilizzati e riconvertiti. In alcuni casi, alcune installazioni diventano simboli cittadini o nazionali, come la Torre Eiffel a Parigi o l'Atomium a Bruxelles. Altri esempi includono l'Acquario Civico a Milano, l'Exploratorium a San Francisco e l'Arco di Trionfo a Barcellona. Il testo menziona anche il quartiere EUR di Roma, costruito in previsione dell'Esposizione Universale del 1942 che non si svolse mai a causa della seconda guerra mondiale.\n"
     ]
    }
   ],
   "source": [
    "prompt = f\"\"\"\n",
    "Riassumi il testo\n",
    "\n",
    "Text sample: '''{story}'''\n",
    "\"\"\"\n",
    "response = get_completion(prompt)\n",
    "print(response)"
   ]
  },
  {
   "attachments": {},
   "cell_type": "markdown",
   "id": "34be1d2a-1309-4512-841a-b6f67338938b",
   "metadata": {},
   "source": [
    "## Esposizioni"
   ]
  },
  {
   "cell_type": "code",
   "execution_count": 38,
   "id": "626c5b8e",
   "metadata": {
    "height": 250
   },
   "outputs": [
    {
     "name": "stdout",
     "output_type": "stream",
     "text": [
      "Europa:\n",
      "- Budapest, Ungheria: Piazza degli Eroi\n",
      "- Milano, Italia: Fiera di Milano, Parco Sempione con Acquario Civico\n",
      "- Londra, Regno Unito: Crystal Palace\n",
      "- Washington, Stati Uniti: Palazzo di Arti e Industrie della Smithsonian Institution\n",
      "- Bruxelles, Belgio: Atomium\n",
      "- Barcellona, Spagna: Arco di Trionfo, Poble Espanyol, Plaça d'Espanya\n",
      "- Roma, Italia: quartiere EUR\n",
      "\n",
      "America del Nord:\n",
      "- San Francisco, Stati Uniti: Exploratorium\n",
      "- Seattle, Stati Uniti: Space Needle, Pacific Science Center\n",
      "- San Antonio, Stati Uniti: Torre delle Americhe, Istituto di Cultura texana, Centro Congressi dell'HemisFair '68\n",
      "- Knoxville, Stati Uniti: Sunsphere\n",
      "- Chicago, Stati Uniti: Museo della scienza e dell'industria\n",
      "- Montréal, Canada: Habitat 67, Biosfera, Casino de Montréal\n",
      "\n",
      "Oceania:\n",
      "- Melbourne, Australia: Royal Exhibition Building\n",
      "\n",
      "Asia:\n",
      "- Nessuna installazione presente nel testo\n",
      "\n",
      "Africa:\n",
      "- Nessuna installazione presente nel testo\n",
      "\n",
      "Antartide:\n",
      "- Nessuna installazione presente nel testo\n"
     ]
    }
   ],
   "source": [
    "prompt = f\"\"\"\n",
    "individua le installazioni e i luoghi di installazione nel testo distinto da '''\n",
    "\n",
    "- Dividi i luoghi di installazione per continente\n",
    "- Dividi i luoghi per nazione in orine alfabetico\n",
    "\n",
    "Testo: '''{story}'''\n",
    "\"\"\"\n",
    "response = get_completion(prompt)\n",
    "print(response)"
   ]
  },
  {
   "cell_type": "code",
   "execution_count": null,
   "id": "af037b66",
   "metadata": {},
   "outputs": [],
   "source": []
  },
  {
   "cell_type": "code",
   "execution_count": 37,
   "id": "d27376bf",
   "metadata": {},
   "outputs": [
    {
     "name": "stdout",
     "output_type": "stream",
     "text": [
      "\"Œuvres installées :\n",
      "- Le Palais des sciences de Montréal\n",
      "- Le pavillon allemand de l'Exposition universelle de Bruxelles en 1958\n",
      "- La Tour Eiffel à Paris\n",
      "- Le complexe architectural de la place des Héros à Budapest\n",
      "- La Foire de Milan\n",
      "- Le Crystal Palace de la première Exposition universelle de Londres en 1851\n",
      "- Le Musée national de l'art et de l'industrie du Smithsonian à Washington\n",
      "- L'île de la Cartuja à Séville\n",
      "- L'Aquarium de Gênes\n",
      "- L'Exploratorium de San Francisco\n",
      "- L'Atomium de Bruxelles\n",
      "- La Tour des Amériques, le Texas Cultural Center et le HemisFair '68 Convention Center de San Antonio\n",
      "- Habitat 67, le Palais des sciences de Montréal et le Casino de Montréal\n",
      "- Le Sun Sphere de Knoxville\n",
      "- Le Musée des sciences et de l'industrie de Chicago\n",
      "- Le Royal Exhibition Building de Melbourne\n",
      "- Le quartier EUR de Rome\n",
      "\n",
      "Lieux d'installation :\n",
      "- Montréal\n",
      "- Bruxelles\n",
      "- Paris\n",
      "- Budapest\n",
      "- Milan\n",
      "- Londres\n",
      "- Washington\n",
      "- Séville\n",
      "- Gênes\n",
      "- San Francisco\n",
      "- Bruxelles\n",
      "- San Antonio\n",
      "- Knoxville\n",
      "- Chicago\n",
      "- Melbourne\n",
      "- Rome\"\n"
     ]
    }
   ],
   "source": [
    "prompt = f\"\"\"\n",
    "Traduci il testo all'interno delle virgolette in francese\n",
    "\n",
    "Testo: \"{response}\"\n",
    "\"\"\"\n",
    "response = get_completion(prompt)\n",
    "print(response)"
   ]
  },
  {
   "cell_type": "code",
   "execution_count": 61,
   "id": "3e2f18bc",
   "metadata": {},
   "outputs": [
    {
     "name": "stdout",
     "output_type": "stream",
     "text": [
      "La Tour Eiffel è stata costruita nel 1889.\n"
     ]
    }
   ],
   "source": [
    "prompt = f\"\"\"\n",
    "quando è stata costruita la tour eiffel\n",
    "\n",
    "Text sample: '''{story}'''\n",
    "\"\"\"\n",
    "response = get_completion(prompt)\n",
    "print(response)"
   ]
  },
  {
   "attachments": {},
   "cell_type": "markdown",
   "id": "f88408ae-469a-4b02-a043-f6b4f0b14bf9",
   "metadata": {},
   "source": [
    "## Try experimenting on your own!"
   ]
  },
  {
   "cell_type": "code",
   "execution_count": 24,
   "id": "1bd3553f",
   "metadata": {
    "height": 29
   },
   "outputs": [],
   "source": [
    "a='''Multiple models, each with different capabilities and price points. Prices are per 1,000 tokens. You can think of tokens as pieces of words, where 1,000 tokens is about 750 words.\n",
    "'''"
   ]
  },
  {
   "cell_type": "code",
   "execution_count": 25,
   "id": "ec7d6731",
   "metadata": {},
   "outputs": [
    {
     "data": {
      "text/plain": [
       "30"
      ]
     },
     "execution_count": 25,
     "metadata": {},
     "output_type": "execute_result"
    }
   ],
   "source": [
    "len(a.split())"
   ]
  },
  {
   "cell_type": "code",
   "execution_count": 26,
   "id": "b8a4b115",
   "metadata": {},
   "outputs": [
    {
     "data": {
      "text/plain": [
       "46.666666666666664"
      ]
     },
     "execution_count": 26,
     "metadata": {},
     "output_type": "execute_result"
    }
   ],
   "source": [
    "35*1000/750"
   ]
  },
  {
   "cell_type": "code",
   "execution_count": 20,
   "id": "b4aed7ea",
   "metadata": {},
   "outputs": [
    {
     "data": {
      "text/plain": [
       "28.0"
      ]
     },
     "execution_count": 20,
     "metadata": {},
     "output_type": "execute_result"
    }
   ],
   "source": [
    "0.002*14000"
   ]
  },
  {
   "cell_type": "code",
   "execution_count": 27,
   "id": "efe97636",
   "metadata": {},
   "outputs": [
    {
     "data": {
      "text/plain": [
       "0.002"
      ]
     },
     "execution_count": 27,
     "metadata": {},
     "output_type": "execute_result"
    }
   ],
   "source": [
    "0.002#1K token"
   ]
  },
  {
   "cell_type": "code",
   "execution_count": 35,
   "id": "2ab3b5e6",
   "metadata": {},
   "outputs": [],
   "source": [
    "def Chat_Gpt_cash(words_in_text,cash_rate = 0.002):\n",
    "    #cash_rate = 0.002 #eur/1K\n",
    "    token = (words_in_text )/(1000*0.75)\n",
    "    value_spent = token * cash_rate \n",
    "    return value_spent "
   ]
  },
  {
   "cell_type": "code",
   "execution_count": 38,
   "id": "b7948613",
   "metadata": {},
   "outputs": [
    {
     "data": {
      "text/plain": [
       "0.002"
      ]
     },
     "execution_count": 38,
     "metadata": {},
     "output_type": "execute_result"
    }
   ],
   "source": [
    "Chat_Gpt_cash(750)"
   ]
  },
  {
   "cell_type": "code",
   "execution_count": 62,
   "id": "32acc4f7",
   "metadata": {},
   "outputs": [
    {
     "data": {
      "text/plain": [
       "0.01"
      ]
     },
     "execution_count": 62,
     "metadata": {},
     "output_type": "execute_result"
    }
   ],
   "source": [
    "Chat_Gpt_cash(750* 5)"
   ]
  },
  {
   "cell_type": "code",
   "execution_count": 55,
   "id": "20e2a198",
   "metadata": {},
   "outputs": [
    {
     "data": {
      "text/plain": [
       "7500"
      ]
     },
     "execution_count": 55,
     "metadata": {},
     "output_type": "execute_result"
    }
   ],
   "source": [
    "750* 10"
   ]
  },
  {
   "cell_type": "code",
   "execution_count": null,
   "id": "92d86974",
   "metadata": {},
   "outputs": [],
   "source": []
  },
  {
   "cell_type": "code",
   "execution_count": 63,
   "id": "721ad013",
   "metadata": {},
   "outputs": [
    {
     "name": "stdout",
     "output_type": "stream",
     "text": [
      "The girl with the black and white puppies has a ball.\n",
      "No errors found.\n",
      "It's going to be a long day. Does the car need its oil changed?\n"
     ]
    },
    {
     "ename": "RateLimitError",
     "evalue": "Rate limit reached for default-gpt-3.5-turbo in organization org-BbtlwaX0shkC3hOHiA0PaDCT on requests per min. Limit: 3 / min. Please try again in 20s. Contact us through our help center at help.openai.com if you continue to have issues. Please add a payment method to your account to increase your rate limit. Visit https://platform.openai.com/account/billing to add a payment method.",
     "output_type": "error",
     "traceback": [
      "\u001b[1;31m---------------------------------------------------------------------------\u001b[0m",
      "\u001b[1;31mRateLimitError\u001b[0m                            Traceback (most recent call last)",
      "Cell \u001b[1;32mIn[63], line 16\u001b[0m\n\u001b[0;32m     10\u001b[0m \u001b[38;5;28;01mfor\u001b[39;00m t \u001b[38;5;129;01min\u001b[39;00m text:\n\u001b[0;32m     11\u001b[0m     prompt \u001b[38;5;241m=\u001b[39m \u001b[38;5;124mf\u001b[39m\u001b[38;5;124m\"\"\"\u001b[39m\u001b[38;5;124mProofread and correct the following text\u001b[39m\n\u001b[0;32m     12\u001b[0m \u001b[38;5;124m    and rewrite the corrected version. If you don\u001b[39m\u001b[38;5;124m'\u001b[39m\u001b[38;5;124mt find\u001b[39m\n\u001b[0;32m     13\u001b[0m \u001b[38;5;124m    and errors, just say \u001b[39m\u001b[38;5;124m\"\u001b[39m\u001b[38;5;124mNo errors found\u001b[39m\u001b[38;5;124m\"\u001b[39m\u001b[38;5;124m. Don\u001b[39m\u001b[38;5;124m'\u001b[39m\u001b[38;5;124mt use \u001b[39m\n\u001b[0;32m     14\u001b[0m \u001b[38;5;124m    any punctuation around the text:\u001b[39m\n\u001b[0;32m     15\u001b[0m \u001b[38;5;124m    ```\u001b[39m\u001b[38;5;132;01m{\u001b[39;00mt\u001b[38;5;132;01m}\u001b[39;00m\u001b[38;5;124m```\u001b[39m\u001b[38;5;124m\"\"\"\u001b[39m\n\u001b[1;32m---> 16\u001b[0m     response \u001b[38;5;241m=\u001b[39m \u001b[43mget_completion\u001b[49m\u001b[43m(\u001b[49m\u001b[43mprompt\u001b[49m\u001b[43m)\u001b[49m\n\u001b[0;32m     17\u001b[0m     \u001b[38;5;28mprint\u001b[39m(response)\n",
      "Cell \u001b[1;32mIn[2], line 3\u001b[0m, in \u001b[0;36mget_completion\u001b[1;34m(prompt, model)\u001b[0m\n\u001b[0;32m      1\u001b[0m \u001b[38;5;28;01mdef\u001b[39;00m \u001b[38;5;21mget_completion\u001b[39m(prompt, model\u001b[38;5;241m=\u001b[39m\u001b[38;5;124m\"\u001b[39m\u001b[38;5;124mgpt-3.5-turbo\u001b[39m\u001b[38;5;124m\"\u001b[39m):\n\u001b[0;32m      2\u001b[0m     messages \u001b[38;5;241m=\u001b[39m [{\u001b[38;5;124m\"\u001b[39m\u001b[38;5;124mrole\u001b[39m\u001b[38;5;124m\"\u001b[39m: \u001b[38;5;124m\"\u001b[39m\u001b[38;5;124muser\u001b[39m\u001b[38;5;124m\"\u001b[39m, \u001b[38;5;124m\"\u001b[39m\u001b[38;5;124mcontent\u001b[39m\u001b[38;5;124m\"\u001b[39m: prompt}]\n\u001b[1;32m----> 3\u001b[0m     response \u001b[38;5;241m=\u001b[39m \u001b[43mopenai\u001b[49m\u001b[38;5;241;43m.\u001b[39;49m\u001b[43mChatCompletion\u001b[49m\u001b[38;5;241;43m.\u001b[39;49m\u001b[43mcreate\u001b[49m\u001b[43m(\u001b[49m\n\u001b[0;32m      4\u001b[0m \u001b[43m        \u001b[49m\u001b[43mmodel\u001b[49m\u001b[38;5;241;43m=\u001b[39;49m\u001b[43mmodel\u001b[49m\u001b[43m,\u001b[49m\n\u001b[0;32m      5\u001b[0m \u001b[43m        \u001b[49m\u001b[43mmessages\u001b[49m\u001b[38;5;241;43m=\u001b[39;49m\u001b[43mmessages\u001b[49m\u001b[43m,\u001b[49m\n\u001b[0;32m      6\u001b[0m \u001b[43m        \u001b[49m\u001b[43mtemperature\u001b[49m\u001b[38;5;241;43m=\u001b[39;49m\u001b[38;5;241;43m0\u001b[39;49m\u001b[43m,\u001b[49m\u001b[43m \u001b[49m\u001b[38;5;66;43;03m# this is the degree of randomness of the model's output\u001b[39;49;00m\n\u001b[0;32m      7\u001b[0m \u001b[43m    \u001b[49m\u001b[43m)\u001b[49m\n\u001b[0;32m      8\u001b[0m     \u001b[38;5;28;01mreturn\u001b[39;00m response\u001b[38;5;241m.\u001b[39mchoices[\u001b[38;5;241m0\u001b[39m]\u001b[38;5;241m.\u001b[39mmessage[\u001b[38;5;124m\"\u001b[39m\u001b[38;5;124mcontent\u001b[39m\u001b[38;5;124m\"\u001b[39m]\n",
      "File \u001b[1;32m~\\anaconda3\\lib\\site-packages\\openai\\api_resources\\chat_completion.py:25\u001b[0m, in \u001b[0;36mChatCompletion.create\u001b[1;34m(cls, *args, **kwargs)\u001b[0m\n\u001b[0;32m     23\u001b[0m \u001b[38;5;28;01mwhile\u001b[39;00m \u001b[38;5;28;01mTrue\u001b[39;00m:\n\u001b[0;32m     24\u001b[0m     \u001b[38;5;28;01mtry\u001b[39;00m:\n\u001b[1;32m---> 25\u001b[0m         \u001b[38;5;28;01mreturn\u001b[39;00m \u001b[38;5;28msuper\u001b[39m()\u001b[38;5;241m.\u001b[39mcreate(\u001b[38;5;241m*\u001b[39margs, \u001b[38;5;241m*\u001b[39m\u001b[38;5;241m*\u001b[39mkwargs)\n\u001b[0;32m     26\u001b[0m     \u001b[38;5;28;01mexcept\u001b[39;00m TryAgain \u001b[38;5;28;01mas\u001b[39;00m e:\n\u001b[0;32m     27\u001b[0m         \u001b[38;5;28;01mif\u001b[39;00m timeout \u001b[38;5;129;01mis\u001b[39;00m \u001b[38;5;129;01mnot\u001b[39;00m \u001b[38;5;28;01mNone\u001b[39;00m \u001b[38;5;129;01mand\u001b[39;00m time\u001b[38;5;241m.\u001b[39mtime() \u001b[38;5;241m>\u001b[39m start \u001b[38;5;241m+\u001b[39m timeout:\n",
      "File \u001b[1;32m~\\anaconda3\\lib\\site-packages\\openai\\api_resources\\abstract\\engine_api_resource.py:153\u001b[0m, in \u001b[0;36mEngineAPIResource.create\u001b[1;34m(cls, api_key, api_base, api_type, request_id, api_version, organization, **params)\u001b[0m\n\u001b[0;32m    127\u001b[0m \u001b[38;5;129m@classmethod\u001b[39m\n\u001b[0;32m    128\u001b[0m \u001b[38;5;28;01mdef\u001b[39;00m \u001b[38;5;21mcreate\u001b[39m(\n\u001b[0;32m    129\u001b[0m     \u001b[38;5;28mcls\u001b[39m,\n\u001b[1;32m   (...)\u001b[0m\n\u001b[0;32m    136\u001b[0m     \u001b[38;5;241m*\u001b[39m\u001b[38;5;241m*\u001b[39mparams,\n\u001b[0;32m    137\u001b[0m ):\n\u001b[0;32m    138\u001b[0m     (\n\u001b[0;32m    139\u001b[0m         deployment_id,\n\u001b[0;32m    140\u001b[0m         engine,\n\u001b[1;32m   (...)\u001b[0m\n\u001b[0;32m    150\u001b[0m         api_key, api_base, api_type, api_version, organization, \u001b[38;5;241m*\u001b[39m\u001b[38;5;241m*\u001b[39mparams\n\u001b[0;32m    151\u001b[0m     )\n\u001b[1;32m--> 153\u001b[0m     response, _, api_key \u001b[38;5;241m=\u001b[39m \u001b[43mrequestor\u001b[49m\u001b[38;5;241;43m.\u001b[39;49m\u001b[43mrequest\u001b[49m\u001b[43m(\u001b[49m\n\u001b[0;32m    154\u001b[0m \u001b[43m        \u001b[49m\u001b[38;5;124;43m\"\u001b[39;49m\u001b[38;5;124;43mpost\u001b[39;49m\u001b[38;5;124;43m\"\u001b[39;49m\u001b[43m,\u001b[49m\n\u001b[0;32m    155\u001b[0m \u001b[43m        \u001b[49m\u001b[43murl\u001b[49m\u001b[43m,\u001b[49m\n\u001b[0;32m    156\u001b[0m \u001b[43m        \u001b[49m\u001b[43mparams\u001b[49m\u001b[38;5;241;43m=\u001b[39;49m\u001b[43mparams\u001b[49m\u001b[43m,\u001b[49m\n\u001b[0;32m    157\u001b[0m \u001b[43m        \u001b[49m\u001b[43mheaders\u001b[49m\u001b[38;5;241;43m=\u001b[39;49m\u001b[43mheaders\u001b[49m\u001b[43m,\u001b[49m\n\u001b[0;32m    158\u001b[0m \u001b[43m        \u001b[49m\u001b[43mstream\u001b[49m\u001b[38;5;241;43m=\u001b[39;49m\u001b[43mstream\u001b[49m\u001b[43m,\u001b[49m\n\u001b[0;32m    159\u001b[0m \u001b[43m        \u001b[49m\u001b[43mrequest_id\u001b[49m\u001b[38;5;241;43m=\u001b[39;49m\u001b[43mrequest_id\u001b[49m\u001b[43m,\u001b[49m\n\u001b[0;32m    160\u001b[0m \u001b[43m        \u001b[49m\u001b[43mrequest_timeout\u001b[49m\u001b[38;5;241;43m=\u001b[39;49m\u001b[43mrequest_timeout\u001b[49m\u001b[43m,\u001b[49m\n\u001b[0;32m    161\u001b[0m \u001b[43m    \u001b[49m\u001b[43m)\u001b[49m\n\u001b[0;32m    163\u001b[0m     \u001b[38;5;28;01mif\u001b[39;00m stream:\n\u001b[0;32m    164\u001b[0m         \u001b[38;5;66;03m# must be an iterator\u001b[39;00m\n\u001b[0;32m    165\u001b[0m         \u001b[38;5;28;01massert\u001b[39;00m \u001b[38;5;129;01mnot\u001b[39;00m \u001b[38;5;28misinstance\u001b[39m(response, OpenAIResponse)\n",
      "File \u001b[1;32m~\\anaconda3\\lib\\site-packages\\openai\\api_requestor.py:230\u001b[0m, in \u001b[0;36mAPIRequestor.request\u001b[1;34m(self, method, url, params, headers, files, stream, request_id, request_timeout)\u001b[0m\n\u001b[0;32m    209\u001b[0m \u001b[38;5;28;01mdef\u001b[39;00m \u001b[38;5;21mrequest\u001b[39m(\n\u001b[0;32m    210\u001b[0m     \u001b[38;5;28mself\u001b[39m,\n\u001b[0;32m    211\u001b[0m     method,\n\u001b[1;32m   (...)\u001b[0m\n\u001b[0;32m    218\u001b[0m     request_timeout: Optional[Union[\u001b[38;5;28mfloat\u001b[39m, Tuple[\u001b[38;5;28mfloat\u001b[39m, \u001b[38;5;28mfloat\u001b[39m]]] \u001b[38;5;241m=\u001b[39m \u001b[38;5;28;01mNone\u001b[39;00m,\n\u001b[0;32m    219\u001b[0m ) \u001b[38;5;241m-\u001b[39m\u001b[38;5;241m>\u001b[39m Tuple[Union[OpenAIResponse, Iterator[OpenAIResponse]], \u001b[38;5;28mbool\u001b[39m, \u001b[38;5;28mstr\u001b[39m]:\n\u001b[0;32m    220\u001b[0m     result \u001b[38;5;241m=\u001b[39m \u001b[38;5;28mself\u001b[39m\u001b[38;5;241m.\u001b[39mrequest_raw(\n\u001b[0;32m    221\u001b[0m         method\u001b[38;5;241m.\u001b[39mlower(),\n\u001b[0;32m    222\u001b[0m         url,\n\u001b[1;32m   (...)\u001b[0m\n\u001b[0;32m    228\u001b[0m         request_timeout\u001b[38;5;241m=\u001b[39mrequest_timeout,\n\u001b[0;32m    229\u001b[0m     )\n\u001b[1;32m--> 230\u001b[0m     resp, got_stream \u001b[38;5;241m=\u001b[39m \u001b[38;5;28;43mself\u001b[39;49m\u001b[38;5;241;43m.\u001b[39;49m\u001b[43m_interpret_response\u001b[49m\u001b[43m(\u001b[49m\u001b[43mresult\u001b[49m\u001b[43m,\u001b[49m\u001b[43m \u001b[49m\u001b[43mstream\u001b[49m\u001b[43m)\u001b[49m\n\u001b[0;32m    231\u001b[0m     \u001b[38;5;28;01mreturn\u001b[39;00m resp, got_stream, \u001b[38;5;28mself\u001b[39m\u001b[38;5;241m.\u001b[39mapi_key\n",
      "File \u001b[1;32m~\\anaconda3\\lib\\site-packages\\openai\\api_requestor.py:624\u001b[0m, in \u001b[0;36mAPIRequestor._interpret_response\u001b[1;34m(self, result, stream)\u001b[0m\n\u001b[0;32m    616\u001b[0m     \u001b[38;5;28;01mreturn\u001b[39;00m (\n\u001b[0;32m    617\u001b[0m         \u001b[38;5;28mself\u001b[39m\u001b[38;5;241m.\u001b[39m_interpret_response_line(\n\u001b[0;32m    618\u001b[0m             line, result\u001b[38;5;241m.\u001b[39mstatus_code, result\u001b[38;5;241m.\u001b[39mheaders, stream\u001b[38;5;241m=\u001b[39m\u001b[38;5;28;01mTrue\u001b[39;00m\n\u001b[0;32m    619\u001b[0m         )\n\u001b[0;32m    620\u001b[0m         \u001b[38;5;28;01mfor\u001b[39;00m line \u001b[38;5;129;01min\u001b[39;00m parse_stream(result\u001b[38;5;241m.\u001b[39miter_lines())\n\u001b[0;32m    621\u001b[0m     ), \u001b[38;5;28;01mTrue\u001b[39;00m\n\u001b[0;32m    622\u001b[0m \u001b[38;5;28;01melse\u001b[39;00m:\n\u001b[0;32m    623\u001b[0m     \u001b[38;5;28;01mreturn\u001b[39;00m (\n\u001b[1;32m--> 624\u001b[0m         \u001b[38;5;28;43mself\u001b[39;49m\u001b[38;5;241;43m.\u001b[39;49m\u001b[43m_interpret_response_line\u001b[49m\u001b[43m(\u001b[49m\n\u001b[0;32m    625\u001b[0m \u001b[43m            \u001b[49m\u001b[43mresult\u001b[49m\u001b[38;5;241;43m.\u001b[39;49m\u001b[43mcontent\u001b[49m\u001b[38;5;241;43m.\u001b[39;49m\u001b[43mdecode\u001b[49m\u001b[43m(\u001b[49m\u001b[38;5;124;43m\"\u001b[39;49m\u001b[38;5;124;43mutf-8\u001b[39;49m\u001b[38;5;124;43m\"\u001b[39;49m\u001b[43m)\u001b[49m\u001b[43m,\u001b[49m\n\u001b[0;32m    626\u001b[0m \u001b[43m            \u001b[49m\u001b[43mresult\u001b[49m\u001b[38;5;241;43m.\u001b[39;49m\u001b[43mstatus_code\u001b[49m\u001b[43m,\u001b[49m\n\u001b[0;32m    627\u001b[0m \u001b[43m            \u001b[49m\u001b[43mresult\u001b[49m\u001b[38;5;241;43m.\u001b[39;49m\u001b[43mheaders\u001b[49m\u001b[43m,\u001b[49m\n\u001b[0;32m    628\u001b[0m \u001b[43m            \u001b[49m\u001b[43mstream\u001b[49m\u001b[38;5;241;43m=\u001b[39;49m\u001b[38;5;28;43;01mFalse\u001b[39;49;00m\u001b[43m,\u001b[49m\n\u001b[0;32m    629\u001b[0m \u001b[43m        \u001b[49m\u001b[43m)\u001b[49m,\n\u001b[0;32m    630\u001b[0m         \u001b[38;5;28;01mFalse\u001b[39;00m,\n\u001b[0;32m    631\u001b[0m     )\n",
      "File \u001b[1;32m~\\anaconda3\\lib\\site-packages\\openai\\api_requestor.py:687\u001b[0m, in \u001b[0;36mAPIRequestor._interpret_response_line\u001b[1;34m(self, rbody, rcode, rheaders, stream)\u001b[0m\n\u001b[0;32m    685\u001b[0m stream_error \u001b[38;5;241m=\u001b[39m stream \u001b[38;5;129;01mand\u001b[39;00m \u001b[38;5;124m\"\u001b[39m\u001b[38;5;124merror\u001b[39m\u001b[38;5;124m\"\u001b[39m \u001b[38;5;129;01min\u001b[39;00m resp\u001b[38;5;241m.\u001b[39mdata\n\u001b[0;32m    686\u001b[0m \u001b[38;5;28;01mif\u001b[39;00m stream_error \u001b[38;5;129;01mor\u001b[39;00m \u001b[38;5;129;01mnot\u001b[39;00m \u001b[38;5;241m200\u001b[39m \u001b[38;5;241m<\u001b[39m\u001b[38;5;241m=\u001b[39m rcode \u001b[38;5;241m<\u001b[39m \u001b[38;5;241m300\u001b[39m:\n\u001b[1;32m--> 687\u001b[0m     \u001b[38;5;28;01mraise\u001b[39;00m \u001b[38;5;28mself\u001b[39m\u001b[38;5;241m.\u001b[39mhandle_error_response(\n\u001b[0;32m    688\u001b[0m         rbody, rcode, resp\u001b[38;5;241m.\u001b[39mdata, rheaders, stream_error\u001b[38;5;241m=\u001b[39mstream_error\n\u001b[0;32m    689\u001b[0m     )\n\u001b[0;32m    690\u001b[0m \u001b[38;5;28;01mreturn\u001b[39;00m resp\n",
      "\u001b[1;31mRateLimitError\u001b[0m: Rate limit reached for default-gpt-3.5-turbo in organization org-BbtlwaX0shkC3hOHiA0PaDCT on requests per min. Limit: 3 / min. Please try again in 20s. Contact us through our help center at help.openai.com if you continue to have issues. Please add a payment method to your account to increase your rate limit. Visit https://platform.openai.com/account/billing to add a payment method."
     ]
    }
   ],
   "source": [
    "text = [ \n",
    "  \"The girl with the black and white puppies have a ball.\",  # The girl has a ball.\n",
    "  \"Yolanda has her notebook.\", # ok\n",
    "  \"Its going to be a long day. Does the car need it’s oil changed?\",  # Homonyms\n",
    "  \"Their goes my freedom. There going to bring they’re suitcases.\",  # Homonyms\n",
    "  \"Your going to need you’re notebook.\",  # Homonyms\n",
    "  \"That medicine effects my ability to sleep. Have you heard of the butterfly affect?\", # Homonyms\n",
    "  \"This phrase is to cherck chatGPT for speling abilitty\"  # spelling\n",
    "]\n",
    "for t in text:\n",
    "    prompt = f\"\"\"Proofread and correct the following text\n",
    "    and rewrite the corrected version. If you don't find\n",
    "    and errors, just say \"No errors found\". Don't use \n",
    "    any punctuation around the text:\n",
    "    ```{t}```\"\"\"\n",
    "    response = get_completion(prompt)\n",
    "    print(response)"
   ]
  },
  {
   "cell_type": "code",
   "execution_count": null,
   "id": "1f96313a",
   "metadata": {},
   "outputs": [],
   "source": []
  }
 ],
 "metadata": {
  "kernelspec": {
   "display_name": "Python 3 (ipykernel)",
   "language": "python",
   "name": "python3"
  },
  "language_info": {
   "codemirror_mode": {
    "name": "ipython",
    "version": 3
   },
   "file_extension": ".py",
   "mimetype": "text/x-python",
   "name": "python",
   "nbconvert_exporter": "python",
   "pygments_lexer": "ipython3",
   "version": "3.9.12"
  }
 },
 "nbformat": 4,
 "nbformat_minor": 5
}
