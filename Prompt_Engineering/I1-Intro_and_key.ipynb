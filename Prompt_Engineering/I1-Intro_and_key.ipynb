{
 "cells": [
  {
   "attachments": {},
   "cell_type": "markdown",
   "id": "18bcbe43",
   "metadata": {},
   "source": [
    "# Introduction\n",
    "\n",
    "But I think the power of LLM large language models as a \n",
    "developer to that is using API calls to LLM To quickly build \n",
    "software applications.\n",
    "And it's been exciting to see what LLM APIs \n",
    "can enable developers to very quickly build So \n",
    "in this course, we'll share with you some \n",
    "of the possibilities for what you can do As well \n",
    "First you'll learn some prompting best \n",
    "practices for software development Then we'll cover some \n",
    "common use cases, summarizing, inferring, transforming, expanding And then you'll build \n",
    "a chatbot using \n",
    "an LLM \n",
    "\n",
    "Some of the best practices you \n",
    "find on the internet may be more suited for a base LLMs \n",
    "But for most practical applications today, we would \n",
    "recommend most people instead focus on \n",
    "instruction tuned LLMs Which are easier to use and \n",
    "also because of the work of OpenAI and other LLM companies becoming \n",
    "safer and more aligned \n",
    "So this course will focus on best practices for \n",
    "instruction tuned LLMs Which is what we recommend you use for most \n",
    "of your applications\n",
    "\n",
    "So when you use an instruction tuned LLMs, think of giving \n",
    "instructions to another person Say someone \n",
    "that's smart but doesn't know the specifics of \n",
    "your task \n",
    "\n",
    "So when an LLMs doesn't work, sometimes it's because the instructions weren't \n",
    "clear enough \n",
    "\n",
    "For example, if you were \n",
    "to say, please write me something about Alan Turing Well, \n",
    "in addition to that, it can be helpful \n",
    "to be clear about whether you want the text to focus on \n",
    "his scientific work Or his personal life or \n",
    "his role in history or something else And \n",
    "if you specify what you want the tone \n",
    "of the text to be, should it take on the tone like a \n",
    "professional journalist would write? Or is it more of a casual note \n",
    "that you dash off to a friend that hopes the OMS generate what you want?\n",
    "\n",
    "\n",
    " And \n",
    "of course, if you picture yourself asking, say, a fresh \n",
    "college graduate to carry out this task for you If \n",
    "you can even specify what snippets of text they should read in \n",
    "advance to write this text about Alan Turing \n",
    "Then that even better sets up that fresh \n",
    "college grad for success to carry out this \n",
    "task for you \n",
    "\n",
    "\n",
    "So in the next video, you see examples of \n",
    "how to be clear and specific, which is an \n",
    "important principle of prompting OMS And you also learn \n",
    "from either a second principle of prompting that \n",
    "is giving LLM time to think So with \n",
    "that, let's go on to the next video "
   ]
  },
  {
   "attachments": {},
   "cell_type": "markdown",
   "id": "d3bca957",
   "metadata": {},
   "source": [
    "### API key found in Chat-GPT"
   ]
  },
  {
   "cell_type": "code",
   "execution_count": null,
   "id": "1d1a84ee",
   "metadata": {},
   "outputs": [],
   "source": [
    "my_test_key2 = 'sk-0WC.....' "
   ]
  },
  {
   "cell_type": "code",
   "execution_count": null,
   "id": "24c67386",
   "metadata": {},
   "outputs": [],
   "source": [
    "#conda install -c conda-forge openai\n",
    "#conda install -c conda-forge python-dotenv\n"
   ]
  },
  {
   "cell_type": "code",
   "execution_count": null,
   "id": "b3915b74",
   "metadata": {},
   "outputs": [],
   "source": []
  }
 ],
 "metadata": {
  "kernelspec": {
   "display_name": "Python 3 (ipykernel)",
   "language": "python",
   "name": "python3"
  },
  "language_info": {
   "codemirror_mode": {
    "name": "ipython",
    "version": 3
   },
   "file_extension": ".py",
   "mimetype": "text/x-python",
   "name": "python",
   "nbconvert_exporter": "python",
   "pygments_lexer": "ipython3",
   "version": "3.10.9"
  }
 },
 "nbformat": 4,
 "nbformat_minor": 5
}
