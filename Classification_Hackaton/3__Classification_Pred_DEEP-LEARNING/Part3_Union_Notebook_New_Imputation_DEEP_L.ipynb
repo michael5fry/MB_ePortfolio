{
 "cells": [
  {
   "attachments": {},
   "cell_type": "markdown",
   "metadata": {},
   "source": [
    "# Here there is Only the Cleaning of the Model"
   ]
  },
  {
   "cell_type": "code",
   "execution_count": 8,
   "metadata": {},
   "outputs": [],
   "source": [
    "# Importing the basic libraries we will require for the project\n",
    "\n",
    "# Libraries to help with reading and manipulating data\n",
    "import pandas as pd\n",
    "import numpy as np\n",
    "\n",
    "# Libaries to help with data visualization\n",
    "import matplotlib.pyplot as plt\n",
    "import seaborn as sns\n",
    "sns.set()\n",
    "\n",
    "\n",
    "# Code to ignore warnings from function usage\n",
    "import warnings;\n",
    "import numpy as np\n",
    "warnings.filterwarnings('ignore')\n",
    "\n",
    "\n",
    "\n",
    "\n",
    "import tensorflow as tf\n",
    "from tensorflow.keras.models import Sequential\n",
    "from tensorflow.keras.layers import Dense, Dropout, Activation\n",
    "\n",
    "\n",
    "\n",
    "# Importing the other functions we may require from Scikit-Learn\n",
    "from sklearn.model_selection import train_test_split, GridSearchCV\n",
    "from sklearn.preprocessing import MinMaxScaler, LabelEncoder, OneHotEncoder\n",
    "from sklearn.preprocessing import StandardScaler\n",
    "\n",
    "# To get diferent metric scores\n",
    "from sklearn.metrics import confusion_matrix,classification_report,roc_auc_score,plot_confusion_matrix,precision_recall_curve,roc_curve,make_scorer\n",
    "\n",
    "\n",
    "\n",
    "# Importing the basic libraries we will require for the project\n",
    "\n",
    "# Libraries to help with reading and manipulating data\n",
    "import pandas as pd\n",
    "import numpy as np\n",
    "\n",
    "# Libaries to help with data visualization\n",
    "import matplotlib.pyplot as plt\n",
    "import seaborn as sns\n",
    "sns.set()\n",
    "\n",
    "# Importing the Machine Learning models we require from Scikit-Learn\n",
    "from sklearn.linear_model import LogisticRegression\n",
    "from sklearn.svm import SVC\n",
    "from sklearn.tree import DecisionTreeClassifier\n",
    "from sklearn import tree\n",
    "from sklearn.ensemble import RandomForestClassifier\n",
    "from sklearn.ensemble import GradientBoostingClassifier\n",
    "\n",
    "\n",
    "# Importing the other functions we may require from Scikit-Learn\n",
    "from sklearn.model_selection import train_test_split, GridSearchCV\n",
    "from sklearn.preprocessing import MinMaxScaler, LabelEncoder, OneHotEncoder\n",
    "from sklearn.preprocessing import StandardScaler\n",
    "\n",
    "# To get diferent metric scores\n",
    "from sklearn.metrics import confusion_matrix,classification_report,roc_auc_score,plot_confusion_matrix,precision_recall_curve,roc_curve,make_scorer\n",
    "\n",
    "# Code to ignore warnings from function usage\n",
    "import warnings;\n",
    "import numpy as np\n",
    "warnings.filterwarnings('ignore')\n",
    "\n",
    "from sklearn.impute import SimpleImputer\n",
    "\n",
    "from sklearn.compose import ColumnTransformer\n",
    "from sklearn.pipeline import Pipeline\n",
    "\n",
    "from sklearn.impute import KNNImputer\n",
    "\n",
    "\n",
    "from sklearn.experimental import enable_iterative_imputer\n",
    "from sklearn.impute import IterativeImputer"
   ]
  },
  {
   "attachments": {},
   "cell_type": "markdown",
   "metadata": {},
   "source": [
    "## Upload a DataFrame"
   ]
  },
  {
   "cell_type": "code",
   "execution_count": 2,
   "metadata": {},
   "outputs": [
    {
     "data": {
      "text/html": [
       "<div>\n",
       "<style scoped>\n",
       "    .dataframe tbody tr th:only-of-type {\n",
       "        vertical-align: middle;\n",
       "    }\n",
       "\n",
       "    .dataframe tbody tr th {\n",
       "        vertical-align: top;\n",
       "    }\n",
       "\n",
       "    .dataframe thead th {\n",
       "        text-align: right;\n",
       "    }\n",
       "</style>\n",
       "<table border=\"1\" class=\"dataframe\">\n",
       "  <thead>\n",
       "    <tr style=\"text-align: right;\">\n",
       "      <th></th>\n",
       "      <th>ID</th>\n",
       "      <th>Overall_Experience</th>\n",
       "      <th>Seat_Comfort</th>\n",
       "      <th>Seat_Class</th>\n",
       "      <th>Arrival_Time_Convenient</th>\n",
       "      <th>Catering</th>\n",
       "      <th>Platform_Location</th>\n",
       "      <th>Onboard_Wifi_Service</th>\n",
       "      <th>Onboard_Entertainment</th>\n",
       "      <th>Online_Support</th>\n",
       "      <th>...</th>\n",
       "      <th>Cleanliness</th>\n",
       "      <th>Online_Boarding</th>\n",
       "      <th>Gender</th>\n",
       "      <th>Customer_Type</th>\n",
       "      <th>Age</th>\n",
       "      <th>Type_Travel</th>\n",
       "      <th>Travel_Class</th>\n",
       "      <th>Travel_Distance</th>\n",
       "      <th>Departure_Delay_in_Mins</th>\n",
       "      <th>Arrival_Delay_in_Mins</th>\n",
       "    </tr>\n",
       "  </thead>\n",
       "  <tbody>\n",
       "    <tr>\n",
       "      <th>0</th>\n",
       "      <td>98800001</td>\n",
       "      <td>0</td>\n",
       "      <td>2.0</td>\n",
       "      <td>1</td>\n",
       "      <td>5.0</td>\n",
       "      <td>5.0</td>\n",
       "      <td>5.0</td>\n",
       "      <td>4.0</td>\n",
       "      <td>2.0</td>\n",
       "      <td>3.0</td>\n",
       "      <td>...</td>\n",
       "      <td>2.0</td>\n",
       "      <td>1.0</td>\n",
       "      <td>0.0</td>\n",
       "      <td>1.0</td>\n",
       "      <td>52.0</td>\n",
       "      <td>NaN</td>\n",
       "      <td>0</td>\n",
       "      <td>272</td>\n",
       "      <td>0.0</td>\n",
       "      <td>5.0</td>\n",
       "    </tr>\n",
       "    <tr>\n",
       "      <th>1</th>\n",
       "      <td>98800002</td>\n",
       "      <td>0</td>\n",
       "      <td>1.0</td>\n",
       "      <td>0</td>\n",
       "      <td>5.0</td>\n",
       "      <td>1.0</td>\n",
       "      <td>2.0</td>\n",
       "      <td>4.0</td>\n",
       "      <td>1.0</td>\n",
       "      <td>4.0</td>\n",
       "      <td>...</td>\n",
       "      <td>4.0</td>\n",
       "      <td>4.0</td>\n",
       "      <td>1.0</td>\n",
       "      <td>1.0</td>\n",
       "      <td>48.0</td>\n",
       "      <td>1.0</td>\n",
       "      <td>1</td>\n",
       "      <td>2200</td>\n",
       "      <td>9.0</td>\n",
       "      <td>0.0</td>\n",
       "    </tr>\n",
       "    <tr>\n",
       "      <th>2</th>\n",
       "      <td>98800003</td>\n",
       "      <td>1</td>\n",
       "      <td>2.0</td>\n",
       "      <td>1</td>\n",
       "      <td>2.0</td>\n",
       "      <td>2.0</td>\n",
       "      <td>2.0</td>\n",
       "      <td>2.0</td>\n",
       "      <td>4.0</td>\n",
       "      <td>5.0</td>\n",
       "      <td>...</td>\n",
       "      <td>5.0</td>\n",
       "      <td>5.0</td>\n",
       "      <td>0.0</td>\n",
       "      <td>1.0</td>\n",
       "      <td>43.0</td>\n",
       "      <td>0.0</td>\n",
       "      <td>0</td>\n",
       "      <td>1061</td>\n",
       "      <td>77.0</td>\n",
       "      <td>119.0</td>\n",
       "    </tr>\n",
       "    <tr>\n",
       "      <th>3</th>\n",
       "      <td>98800004</td>\n",
       "      <td>0</td>\n",
       "      <td>3.0</td>\n",
       "      <td>0</td>\n",
       "      <td>2.0</td>\n",
       "      <td>NaN</td>\n",
       "      <td>2.0</td>\n",
       "      <td>3.0</td>\n",
       "      <td>2.0</td>\n",
       "      <td>3.0</td>\n",
       "      <td>...</td>\n",
       "      <td>3.0</td>\n",
       "      <td>3.0</td>\n",
       "      <td>0.0</td>\n",
       "      <td>1.0</td>\n",
       "      <td>44.0</td>\n",
       "      <td>0.0</td>\n",
       "      <td>0</td>\n",
       "      <td>780</td>\n",
       "      <td>13.0</td>\n",
       "      <td>18.0</td>\n",
       "    </tr>\n",
       "    <tr>\n",
       "      <th>4</th>\n",
       "      <td>98800005</td>\n",
       "      <td>1</td>\n",
       "      <td>3.0</td>\n",
       "      <td>0</td>\n",
       "      <td>3.0</td>\n",
       "      <td>3.0</td>\n",
       "      <td>3.0</td>\n",
       "      <td>2.0</td>\n",
       "      <td>4.0</td>\n",
       "      <td>5.0</td>\n",
       "      <td>...</td>\n",
       "      <td>4.0</td>\n",
       "      <td>4.0</td>\n",
       "      <td>0.0</td>\n",
       "      <td>1.0</td>\n",
       "      <td>50.0</td>\n",
       "      <td>0.0</td>\n",
       "      <td>0</td>\n",
       "      <td>1981</td>\n",
       "      <td>0.0</td>\n",
       "      <td>0.0</td>\n",
       "    </tr>\n",
       "  </tbody>\n",
       "</table>\n",
       "<p>5 rows × 25 columns</p>\n",
       "</div>"
      ],
      "text/plain": [
       "         ID  Overall_Experience  Seat_Comfort  Seat_Class  \\\n",
       "0  98800001                   0           2.0           1   \n",
       "1  98800002                   0           1.0           0   \n",
       "2  98800003                   1           2.0           1   \n",
       "3  98800004                   0           3.0           0   \n",
       "4  98800005                   1           3.0           0   \n",
       "\n",
       "   Arrival_Time_Convenient  Catering  Platform_Location  Onboard_Wifi_Service  \\\n",
       "0                      5.0       5.0                5.0                   4.0   \n",
       "1                      5.0       1.0                2.0                   4.0   \n",
       "2                      2.0       2.0                2.0                   2.0   \n",
       "3                      2.0       NaN                2.0                   3.0   \n",
       "4                      3.0       3.0                3.0                   2.0   \n",
       "\n",
       "   Onboard_Entertainment  Online_Support  ...  Cleanliness  Online_Boarding  \\\n",
       "0                    2.0             3.0  ...          2.0              1.0   \n",
       "1                    1.0             4.0  ...          4.0              4.0   \n",
       "2                    4.0             5.0  ...          5.0              5.0   \n",
       "3                    2.0             3.0  ...          3.0              3.0   \n",
       "4                    4.0             5.0  ...          4.0              4.0   \n",
       "\n",
       "   Gender  Customer_Type   Age  Type_Travel  Travel_Class  Travel_Distance  \\\n",
       "0     0.0            1.0  52.0          NaN             0              272   \n",
       "1     1.0            1.0  48.0          1.0             1             2200   \n",
       "2     0.0            1.0  43.0          0.0             0             1061   \n",
       "3     0.0            1.0  44.0          0.0             0              780   \n",
       "4     0.0            1.0  50.0          0.0             0             1981   \n",
       "\n",
       "   Departure_Delay_in_Mins  Arrival_Delay_in_Mins  \n",
       "0                      0.0                    5.0  \n",
       "1                      9.0                    0.0  \n",
       "2                     77.0                  119.0  \n",
       "3                     13.0                   18.0  \n",
       "4                      0.0                    0.0  \n",
       "\n",
       "[5 rows x 25 columns]"
      ]
     },
     "execution_count": 2,
     "metadata": {},
     "output_type": "execute_result"
    }
   ],
   "source": [
    "df_train = pd.read_csv('training_dataset_ready_for_imputation.csv')\n",
    "del df_train['Unnamed: 0']\n",
    "df_train.head()"
   ]
  },
  {
   "cell_type": "code",
   "execution_count": 308,
   "metadata": {},
   "outputs": [],
   "source": [
    "def accuracy(y_train_test, y_pred_train_test):\n",
    "    cm = confusion_matrix(y_train_test, y_pred_train_test)\n",
    "    tot = sum(sum(cm))\n",
    "    zero = cm[0][0]\n",
    "    one = cm[1][1]\n",
    "\n",
    "    accuracy = (one + zero)/tot\n",
    "    return accuracy"
   ]
  },
  {
   "attachments": {},
   "cell_type": "markdown",
   "metadata": {},
   "source": [
    "```\n",
    "# Importing the basic libraries we will require for the project\n",
    "\n",
    "# Libraries to help with reading and manipulating data\n",
    "import pandas as pd\n",
    "import numpy as np\n",
    "\n",
    "# Libaries to help with data visualization\n",
    "import matplotlib.pyplot as plt\n",
    "import seaborn as sns\n",
    "sns.set()\n",
    "\n",
    "# Importing the Machine Learning models we require from Scikit-Learn\n",
    "from sklearn.linear_model import LogisticRegression\n",
    "from sklearn.svm import SVC\n",
    "from sklearn.tree import DecisionTreeClassifier\n",
    "from sklearn import tree\n",
    "from sklearn.ensemble import RandomForestClassifier\n",
    "from sklearn.ensemble import GradientBoostingClassifier\n",
    "\n",
    "\n",
    "# Importing the other functions we may require from Scikit-Learn\n",
    "from sklearn.model_selection import train_test_split, GridSearchCV\n",
    "from sklearn.preprocessing import MinMaxScaler, LabelEncoder, OneHotEncoder\n",
    "from sklearn.preprocessing import StandardScaler\n",
    "\n",
    "# To get diferent metric scores\n",
    "from sklearn.metrics import confusion_matrix,classification_report,roc_auc_score,plot_confusion_matrix,precision_recall_curve,roc_curve,make_scorer\n",
    "\n",
    "# Code to ignore warnings from function usage\n",
    "import warnings;\n",
    "import numpy as np\n",
    "warnings.filterwarnings('ignore')\n",
    "\n",
    "from sklearn.impute import SimpleImputer\n",
    "\n",
    "from sklearn.compose import ColumnTransformer\n",
    "from sklearn.pipeline import Pipeline\n",
    "\n",
    "from sklearn.impute import KNNImputer\n",
    "\n",
    "\n",
    "from sklearn.experimental import enable_iterative_imputer\n",
    "from sklearn.impute import IterativeImputer\n",
    "\n",
    "\n",
    "\n",
    "#X_train_train\n",
    "scaler1 = MinMaxScaler()\n",
    "X_train_train2 = X_train_train.copy()\n",
    "X_train_test2 = X_train_test.copy()\n",
    "X_train_train2[numeric_features_min_max] = scaler1.fit_transform(X_train_train2[numeric_features_min_max])\n",
    "X_train_test2[numeric_features_min_max] = scaler1.transform(X_train_test2[numeric_features_min_max])\n",
    "\n",
    "scaler2 = StandardScaler()\n",
    "X_train_train2[numeric_features_standard] = scaler2.fit_transform(X_train_train2[numeric_features_standard])\n",
    "X_train_test2[numeric_features_standard] = scaler2.transform(X_train_test2[numeric_features_standard])\n",
    "\n",
    "# imputer\n",
    "imputer = KNNImputer(n_neighbors=4) \n",
    "X_train_train2 = imputer.fit_transform(X_train_train2)\n",
    "X_train_test2 = imputer.transform(X_train_test2)\n",
    "#pd.DataFrame(X_train_train2).isna().sum()"
   ]
  },
  {
   "cell_type": "code",
   "execution_count": null,
   "metadata": {},
   "outputs": [],
   "source": []
  },
  {
   "cell_type": "code",
   "execution_count": null,
   "metadata": {},
   "outputs": [],
   "source": []
  },
  {
   "attachments": {},
   "cell_type": "markdown",
   "metadata": {},
   "source": [
    "# deep learning"
   ]
  },
  {
   "cell_type": "code",
   "execution_count": 3,
   "metadata": {},
   "outputs": [],
   "source": [
    "# Fixing the seed for random number generators\n",
    "np.random.seed(5)\n",
    "\n",
    "import random\n",
    "random.seed(5)\n",
    "\n",
    "tf.random.set_seed(5)"
   ]
  },
  {
   "cell_type": "code",
   "execution_count": 16,
   "metadata": {},
   "outputs": [],
   "source": [
    "# We will be adding the layers sequentially\n",
    "model_1 = Sequential()\n",
    "\n",
    "# First hidden layer with 128 neurons and relu activation function, the input shape tuple denotes number of independent variables\n",
    "model_1.add(Dense(128, activation='relu', input_shape=(23,)))\n",
    "\n",
    "# We will be switching 20% of neurons off randomly at each iteration to avoid overfitting\n",
    "model_1.add(Dropout(0.3))\n",
    "\n",
    "# Third hidden layer with 64 neurons and relu activation function\n",
    "model_1.add(Dense(64, activation='tanh')) #'tanh\n",
    "\n",
    "# We will be switching 20% of neurons off randomly at each iteration to avoid overfitting\n",
    "model_1.add(Dropout(0.2))\n",
    "\n",
    "# Third hidden layer with 64 neurons and relu activation function\n",
    "model_1.add(Dense(32, activation='relu'))\n",
    "\n",
    "# We will be switching 10% of neurons off randomly at each iteration to avoid overfitting\n",
    "model_1.add(Dropout(0.1))\n",
    "\n",
    "\n",
    "# Output layer with only one neuron and sigmoid as activation function will give the probability of students getting admitted into UCLA  \n",
    "model_1.add(Dense(1, activation='sigmoid'))"
   ]
  },
  {
   "attachments": {},
   "cell_type": "markdown",
   "metadata": {},
   "source": [
    "``` mnist = tf.keras.datasets.mnist\n",
    "\n",
    "(x_train, y_train), (x_test, y_test) = mnist.load_data()\n",
    "x_train, x_test = x_train / 255.0, x_test / 255.0\n",
    "\n",
    "model = tf.keras.models.Sequential([\n",
    "  tf.keras.layers.Flatten(input_shape=(28, 28)),\n",
    "  tf.keras.layers.Dense(128, activation='relu'),\n",
    "  tf.keras.layers.Dropout(0.2),\n",
    "  tf.keras.layers.Dense(10, activation='softmax') 'tanh'\n",
    "])\n",
    "\n",
    "model.compile(optimizer='adam',\n",
    "              loss='sparse_categorical_crossentropy',\n",
    "              metrics=['accuracy'])\n",
    "\n",
    "model.fit(x_train, y_train, callbacks=[LearningRateReducerCb()], epochs=5)\n",
    "\n",
    "model.evaluate(x_test, y_test)"
   ]
  },
  {
   "cell_type": "code",
   "execution_count": 17,
   "metadata": {},
   "outputs": [
    {
     "name": "stdout",
     "output_type": "stream",
     "text": [
      "Model: \"sequential_1\"\n",
      "_________________________________________________________________\n",
      " Layer (type)                Output Shape              Param #   \n",
      "=================================================================\n",
      " dense_4 (Dense)             (None, 128)               3072      \n",
      "                                                                 \n",
      " dropout_3 (Dropout)         (None, 128)               0         \n",
      "                                                                 \n",
      " dense_5 (Dense)             (None, 64)                8256      \n",
      "                                                                 \n",
      " dropout_4 (Dropout)         (None, 64)                0         \n",
      "                                                                 \n",
      " dense_6 (Dense)             (None, 32)                2080      \n",
      "                                                                 \n",
      " dropout_5 (Dropout)         (None, 32)                0         \n",
      "                                                                 \n",
      " dense_7 (Dense)             (None, 1)                 33        \n",
      "                                                                 \n",
      "=================================================================\n",
      "Total params: 13,441\n",
      "Trainable params: 13,441\n",
      "Non-trainable params: 0\n",
      "_________________________________________________________________\n"
     ]
    }
   ],
   "source": [
    "#model_1.compile(loss = 'binary_crossentropy', optimizer='adamax', metrics=['accuracy'])\n",
    "model_1.compile(loss = 'binary_crossentropy', optimizer=tf.keras.optimizers.Adam(learning_rate=0.001), metrics=['accuracy']) #0.001\n",
    "\n",
    "\n",
    "model_1.summary()"
   ]
  },
  {
   "cell_type": "code",
   "execution_count": 9,
   "metadata": {},
   "outputs": [
    {
     "data": {
      "text/plain": [
       "(94291, 23)"
      ]
     },
     "execution_count": 9,
     "metadata": {},
     "output_type": "execute_result"
    }
   ],
   "source": [
    "X_train = df_train.drop(['ID',\"Overall_Experience\"], axis=1) # keep it as a Matrix\n",
    "y_train = df_train[\"Overall_Experience\"]  # keep it as an array\n",
    "\n",
    "X_train.shape"
   ]
  },
  {
   "attachments": {},
   "cell_type": "markdown",
   "metadata": {},
   "source": [
    " SPLIT"
   ]
  },
  {
   "cell_type": "code",
   "execution_count": 10,
   "metadata": {},
   "outputs": [],
   "source": [
    "X_train_train ,X_train_test , y_train_train, y_train_test = train_test_split(X_train , y_train, test_size=0.2, random_state=5, stratify= y_train)"
   ]
  },
  {
   "cell_type": "code",
   "execution_count": 12,
   "metadata": {},
   "outputs": [],
   "source": [
    "numeric_features_min_max = ['Seat_Comfort', 'Seat_Class', 'Arrival_Time_Convenient', 'Catering','Platform_Location', 'Onboard_Wifi_Service', \n",
    "                            'Onboard_Entertainment','Online_Support', 'Ease_of_Online_Booking', 'Onboard_Service','Legroom', 'Baggage_Handling', \n",
    "                            'CheckIn_Service', 'Cleanliness','Online_Boarding', 'Gender', 'Customer_Type', 'Age', 'Type_Travel','Travel_Class']\n",
    "\n",
    "numeric_features_standard = [   'Travel_Distance', 'Departure_Delay_in_Mins', 'Arrival_Delay_in_Mins']\n",
    "\n",
    "\n",
    "numeric_transformer = Pipeline(\n",
    "    steps = [ ('scaler1', MinMaxScaler() ), ('scaler2', StandardScaler() ), ('imputer', KNNImputer(n_neighbors=4) ) ] \n",
    "    # ('imputer', SimpleImputer(strategy='median') ), ADD LATER ON, , ('imputer',  IterativeImputer(random_state=0, initial_strategy='median') ('imputer', KNNImputer(n_neighbors=4) )\n",
    ")\n",
    "\n",
    "# Here the pre-processor step\n",
    "preprocessor = ColumnTransformer(\n",
    "    transformers=[\n",
    "        (\"numeric1\", numeric_transformer, numeric_features_min_max ),\n",
    "        (\"numeric2\", numeric_transformer, numeric_features_standard )\n",
    "    ]\n",
    ")\n",
    "\n",
    "# here the Pipeline\n",
    "pipe_rf = Pipeline(\n",
    "    steps = [('preprocessor', preprocessor), ('regressor', RandomForestClassifier(n_estimators = 100, n_jobs=-1) ) ]#n_estimators =1000 5min try 2k\n",
    ")\n",
    "\n",
    "\n",
    "#X_train_train_normalized = preprocessor.fit_transform(X_train_train)\n",
    "\n",
    "#y_pred_train_train = pipe_rf.predict(X_train_train)\n",
    "\n",
    "#metrics_score(y_train_train, y_pred_train_train)\n",
    "\n",
    "\n",
    "\n",
    "#X_train_test_normalized = preprocessor.transform(X_train_test)"
   ]
  },
  {
   "attachments": {},
   "cell_type": "markdown",
   "metadata": {},
   "source": [
    "## REMOVE THE REST OF THE PIPELINE"
   ]
  },
  {
   "cell_type": "code",
   "execution_count": 13,
   "metadata": {},
   "outputs": [],
   "source": [
    "X_train_train_normalized = preprocessor.fit_transform(X_train_train)"
   ]
  },
  {
   "attachments": {},
   "cell_type": "markdown",
   "metadata": {},
   "source": [
    "## POSSIBILITY TO CREATE THE VARIOUS DATAFRAME NORMALIZED"
   ]
  },
  {
   "cell_type": "code",
   "execution_count": 18,
   "metadata": {},
   "outputs": [
    {
     "name": "stdout",
     "output_type": "stream",
     "text": [
      "Epoch 1/21\n",
      "1886/1886 - 7s - loss: 0.2681 - accuracy: 0.8898 - val_loss: 0.1918 - val_accuracy: 0.9186 - 7s/epoch - 3ms/step\n",
      "Epoch 2/21\n",
      "1886/1886 - 6s - loss: 0.2016 - accuracy: 0.9169 - val_loss: 0.1689 - val_accuracy: 0.9293 - 6s/epoch - 3ms/step\n",
      "Epoch 3/21\n",
      "1886/1886 - 5s - loss: 0.1791 - accuracy: 0.9254 - val_loss: 0.1467 - val_accuracy: 0.9364 - 5s/epoch - 3ms/step\n",
      "Epoch 4/21\n",
      "1886/1886 - 6s - loss: 0.1630 - accuracy: 0.9312 - val_loss: 0.1359 - val_accuracy: 0.9403 - 6s/epoch - 3ms/step\n",
      "Epoch 5/21\n",
      "1886/1886 - 5s - loss: 0.1507 - accuracy: 0.9370 - val_loss: 0.1301 - val_accuracy: 0.9429 - 5s/epoch - 3ms/step\n",
      "Epoch 6/21\n",
      "1886/1886 - 5s - loss: 0.1441 - accuracy: 0.9381 - val_loss: 0.1244 - val_accuracy: 0.9443 - 5s/epoch - 3ms/step\n",
      "Epoch 7/21\n",
      "1886/1886 - 5s - loss: 0.1395 - accuracy: 0.9412 - val_loss: 0.1218 - val_accuracy: 0.9475 - 5s/epoch - 3ms/step\n",
      "Epoch 8/21\n",
      "1886/1886 - 5s - loss: 0.1361 - accuracy: 0.9428 - val_loss: 0.1180 - val_accuracy: 0.9476 - 5s/epoch - 3ms/step\n",
      "Epoch 9/21\n",
      "1886/1886 - 5s - loss: 0.1324 - accuracy: 0.9436 - val_loss: 0.1155 - val_accuracy: 0.9490 - 5s/epoch - 3ms/step\n",
      "Epoch 10/21\n",
      "1886/1886 - 5s - loss: 0.1294 - accuracy: 0.9446 - val_loss: 0.1156 - val_accuracy: 0.9475 - 5s/epoch - 3ms/step\n",
      "Epoch 11/21\n",
      "1886/1886 - 5s - loss: 0.1267 - accuracy: 0.9463 - val_loss: 0.1155 - val_accuracy: 0.9486 - 5s/epoch - 3ms/step\n",
      "Epoch 12/21\n",
      "1886/1886 - 5s - loss: 0.1255 - accuracy: 0.9469 - val_loss: 0.1139 - val_accuracy: 0.9497 - 5s/epoch - 3ms/step\n",
      "Epoch 13/21\n",
      "1886/1886 - 5s - loss: 0.1232 - accuracy: 0.9470 - val_loss: 0.1117 - val_accuracy: 0.9514 - 5s/epoch - 3ms/step\n",
      "Epoch 14/21\n",
      "1886/1886 - 5s - loss: 0.1218 - accuracy: 0.9483 - val_loss: 0.1067 - val_accuracy: 0.9528 - 5s/epoch - 3ms/step\n",
      "Epoch 15/21\n",
      "1886/1886 - 5s - loss: 0.1205 - accuracy: 0.9485 - val_loss: 0.1087 - val_accuracy: 0.9529 - 5s/epoch - 3ms/step\n",
      "Epoch 16/21\n",
      "1886/1886 - 5s - loss: 0.1200 - accuracy: 0.9484 - val_loss: 0.1079 - val_accuracy: 0.9523 - 5s/epoch - 3ms/step\n",
      "Epoch 17/21\n",
      "1886/1886 - 5s - loss: 0.1192 - accuracy: 0.9486 - val_loss: 0.1082 - val_accuracy: 0.9522 - 5s/epoch - 3ms/step\n",
      "Epoch 18/21\n",
      "1886/1886 - 5s - loss: 0.1167 - accuracy: 0.9497 - val_loss: 0.1055 - val_accuracy: 0.9528 - 5s/epoch - 3ms/step\n",
      "Epoch 19/21\n",
      "1886/1886 - 5s - loss: 0.1167 - accuracy: 0.9505 - val_loss: 0.1082 - val_accuracy: 0.9531 - 5s/epoch - 3ms/step\n",
      "Epoch 20/21\n",
      "1886/1886 - 5s - loss: 0.1158 - accuracy: 0.9506 - val_loss: 0.1070 - val_accuracy: 0.9539 - 5s/epoch - 3ms/step\n",
      "Epoch 21/21\n",
      "1886/1886 - 5s - loss: 0.1146 - accuracy: 0.9509 - val_loss: 0.1067 - val_accuracy: 0.9532 - 5s/epoch - 3ms/step\n"
     ]
    }
   ],
   "source": [
    "history_1 = model_1.fit(X_train_train_normalized, \n",
    "                    y_train_train,\n",
    "                    validation_split=0.2, \n",
    "                    epochs=21, #150 \n",
    "                    verbose=2)"
   ]
  },
  {
   "cell_type": "code",
   "execution_count": 19,
   "metadata": {},
   "outputs": [
    {
     "data": {
      "image/png": "[encoded data removed]",
      "text/plain": [
       "<Figure size 640x480 with 1 Axes>"
      ]
     },
     "metadata": {},
     "output_type": "display_data"
    }
   ],
   "source": [
    "plt.plot(history_1.history['accuracy'])\n",
    "plt.plot(history_1.history['val_accuracy'])\n",
    "plt.title('Accuracy vs Epochs')\n",
    "plt.ylabel('Accuracy')\n",
    "plt.xlabel('Epoch')\n",
    "plt.legend(['Train', 'Validation'], loc='lower right')\n",
    "plt.show()"
   ]
  },
  {
   "attachments": {},
   "cell_type": "markdown",
   "metadata": {},
   "source": [
    "# FINISH THE CHECK"
   ]
  },
  {
   "attachments": {},
   "cell_type": "markdown",
   "metadata": {},
   "source": [
    "## Max value in the training Set"
   ]
  },
  {
   "cell_type": "code",
   "execution_count": 20,
   "metadata": {},
   "outputs": [
    {
     "name": "stdout",
     "output_type": "stream",
     "text": [
      "2358/2358 [==============================] - 5s 2ms/step - loss: 0.0974 - accuracy: 0.9569\n",
      "2358/2358 [==============================] - 6s 2ms/step\n"
     ]
    }
   ],
   "source": [
    "model_1.evaluate(X_train_train_normalized, y_train_train, verbose = 1)\n",
    "test_pred = np.round(model_1.predict(X_train_train_normalized))\n"
   ]
  },
  {
   "attachments": {},
   "cell_type": "markdown",
   "metadata": {},
   "source": [
    "## Max Value in the Test Set"
   ]
  },
  {
   "cell_type": "code",
   "execution_count": 21,
   "metadata": {},
   "outputs": [],
   "source": [
    "X_train_test_normalized = preprocessor.transform(X_train_test)"
   ]
  },
  {
   "cell_type": "code",
   "execution_count": 22,
   "metadata": {},
   "outputs": [
    {
     "name": "stdout",
     "output_type": "stream",
     "text": [
      "590/590 [==============================] - 1s 2ms/step - loss: 0.1122 - accuracy: 0.9524\n",
      "590/590 [==============================] - 1s 2ms/step\n"
     ]
    }
   ],
   "source": [
    "model_1.evaluate(X_train_test_normalized , y_train_test, verbose = 1)\n",
    "test_pred = np.round(model_1.predict(X_train_test_normalized))\n"
   ]
  },
  {
   "cell_type": "code",
   "execution_count": null,
   "metadata": {},
   "outputs": [],
   "source": []
  }
 ],
 "metadata": {
  "kernelspec": {
   "display_name": "Python 3 (ipykernel)",
   "language": "python",
   "name": "python3"
  },
  "language_info": {
   "codemirror_mode": {
    "name": "ipython",
    "version": 3
   },
   "file_extension": ".py",
   "mimetype": "text/x-python",
   "name": "python",
   "nbconvert_exporter": "python",
   "pygments_lexer": "ipython3",
   "version": "3.9.13"
  }
 },
 "nbformat": 4,
 "nbformat_minor": 2
}
