{
 "cells": [
  {
   "attachments": {},
   "cell_type": "markdown",
   "metadata": {},
   "source": [
    "# RANDOM FOREST CLASSIFIER"
   ]
  },
  {
   "cell_type": "code",
   "execution_count": 5,
   "metadata": {},
   "outputs": [],
   "source": [
    "# Importing the basic libraries we will require for the project\n",
    "\n",
    "# Libraries to help with reading and manipulating data\n",
    "import pandas as pd\n",
    "import numpy as np\n",
    "\n",
    "# Libaries to help with data visualization\n",
    "import matplotlib.pyplot as plt\n",
    "import seaborn as sns\n",
    "sns.set()\n",
    "\n",
    "# Importing the Machine Learning models we require from Scikit-Learn\n",
    "from sklearn.linear_model import LogisticRegression\n",
    "from sklearn.svm import SVC\n",
    "from sklearn.tree import DecisionTreeClassifier\n",
    "from sklearn import tree\n",
    "from sklearn.ensemble import RandomForestClassifier\n",
    "from sklearn.ensemble import GradientBoostingClassifier\n",
    "\n",
    "\n",
    "# Importing the other functions we may require from Scikit-Learn\n",
    "from sklearn.model_selection import train_test_split, GridSearchCV\n",
    "from sklearn.preprocessing import MinMaxScaler, LabelEncoder, OneHotEncoder\n",
    "from sklearn.preprocessing import StandardScaler\n",
    "\n",
    "# To get diferent metric scores\n",
    "from sklearn.metrics import confusion_matrix,classification_report,roc_auc_score,plot_confusion_matrix,precision_recall_curve,roc_curve,make_scorer\n",
    "\n",
    "# Code to ignore warnings from function usage\n",
    "import warnings;\n",
    "import numpy as np\n",
    "warnings.filterwarnings('ignore')\n",
    "\n",
    "from sklearn.impute import SimpleImputer\n",
    "\n",
    "from sklearn.compose import ColumnTransformer\n",
    "from sklearn.pipeline import Pipeline\n",
    "\n",
    "from sklearn.impute import KNNImputer\n",
    "\n",
    "\n",
    "from sklearn.experimental import enable_iterative_imputer\n",
    "from sklearn.impute import IterativeImputer"
   ]
  },
  {
   "attachments": {},
   "cell_type": "markdown",
   "metadata": {},
   "source": [
    "## Upload a DataFrame"
   ]
  },
  {
   "cell_type": "code",
   "execution_count": 3,
   "metadata": {},
   "outputs": [
    {
     "data": {
      "text/html": [
       "<div>\n",
       "<style scoped>\n",
       "    .dataframe tbody tr th:only-of-type {\n",
       "        vertical-align: middle;\n",
       "    }\n",
       "\n",
       "    .dataframe tbody tr th {\n",
       "        vertical-align: top;\n",
       "    }\n",
       "\n",
       "    .dataframe thead th {\n",
       "        text-align: right;\n",
       "    }\n",
       "</style>\n",
       "<table border=\"1\" class=\"dataframe\">\n",
       "  <thead>\n",
       "    <tr style=\"text-align: right;\">\n",
       "      <th></th>\n",
       "      <th>ID</th>\n",
       "      <th>Overall_Experience</th>\n",
       "      <th>Seat_Comfort</th>\n",
       "      <th>Seat_Class</th>\n",
       "      <th>Arrival_Time_Convenient</th>\n",
       "      <th>Catering</th>\n",
       "      <th>Platform_Location</th>\n",
       "      <th>Onboard_Wifi_Service</th>\n",
       "      <th>Onboard_Entertainment</th>\n",
       "      <th>Online_Support</th>\n",
       "      <th>...</th>\n",
       "      <th>Cleanliness</th>\n",
       "      <th>Online_Boarding</th>\n",
       "      <th>Gender</th>\n",
       "      <th>Customer_Type</th>\n",
       "      <th>Age</th>\n",
       "      <th>Type_Travel</th>\n",
       "      <th>Travel_Class</th>\n",
       "      <th>Travel_Distance</th>\n",
       "      <th>Departure_Delay_in_Mins</th>\n",
       "      <th>Arrival_Delay_in_Mins</th>\n",
       "    </tr>\n",
       "  </thead>\n",
       "  <tbody>\n",
       "    <tr>\n",
       "      <th>0</th>\n",
       "      <td>98800001</td>\n",
       "      <td>0</td>\n",
       "      <td>2.0</td>\n",
       "      <td>1</td>\n",
       "      <td>5.0</td>\n",
       "      <td>5.0</td>\n",
       "      <td>5.0</td>\n",
       "      <td>4.0</td>\n",
       "      <td>2.0</td>\n",
       "      <td>3.0</td>\n",
       "      <td>...</td>\n",
       "      <td>2.0</td>\n",
       "      <td>1.0</td>\n",
       "      <td>0.0</td>\n",
       "      <td>1.0</td>\n",
       "      <td>52.0</td>\n",
       "      <td>NaN</td>\n",
       "      <td>0</td>\n",
       "      <td>272</td>\n",
       "      <td>0.0</td>\n",
       "      <td>5.0</td>\n",
       "    </tr>\n",
       "    <tr>\n",
       "      <th>1</th>\n",
       "      <td>98800002</td>\n",
       "      <td>0</td>\n",
       "      <td>1.0</td>\n",
       "      <td>0</td>\n",
       "      <td>5.0</td>\n",
       "      <td>1.0</td>\n",
       "      <td>2.0</td>\n",
       "      <td>4.0</td>\n",
       "      <td>1.0</td>\n",
       "      <td>4.0</td>\n",
       "      <td>...</td>\n",
       "      <td>4.0</td>\n",
       "      <td>4.0</td>\n",
       "      <td>1.0</td>\n",
       "      <td>1.0</td>\n",
       "      <td>48.0</td>\n",
       "      <td>1.0</td>\n",
       "      <td>1</td>\n",
       "      <td>2200</td>\n",
       "      <td>9.0</td>\n",
       "      <td>0.0</td>\n",
       "    </tr>\n",
       "    <tr>\n",
       "      <th>2</th>\n",
       "      <td>98800003</td>\n",
       "      <td>1</td>\n",
       "      <td>2.0</td>\n",
       "      <td>1</td>\n",
       "      <td>2.0</td>\n",
       "      <td>2.0</td>\n",
       "      <td>2.0</td>\n",
       "      <td>2.0</td>\n",
       "      <td>4.0</td>\n",
       "      <td>5.0</td>\n",
       "      <td>...</td>\n",
       "      <td>5.0</td>\n",
       "      <td>5.0</td>\n",
       "      <td>0.0</td>\n",
       "      <td>1.0</td>\n",
       "      <td>43.0</td>\n",
       "      <td>0.0</td>\n",
       "      <td>0</td>\n",
       "      <td>1061</td>\n",
       "      <td>77.0</td>\n",
       "      <td>119.0</td>\n",
       "    </tr>\n",
       "    <tr>\n",
       "      <th>3</th>\n",
       "      <td>98800004</td>\n",
       "      <td>0</td>\n",
       "      <td>3.0</td>\n",
       "      <td>0</td>\n",
       "      <td>2.0</td>\n",
       "      <td>NaN</td>\n",
       "      <td>2.0</td>\n",
       "      <td>3.0</td>\n",
       "      <td>2.0</td>\n",
       "      <td>3.0</td>\n",
       "      <td>...</td>\n",
       "      <td>3.0</td>\n",
       "      <td>3.0</td>\n",
       "      <td>0.0</td>\n",
       "      <td>1.0</td>\n",
       "      <td>44.0</td>\n",
       "      <td>0.0</td>\n",
       "      <td>0</td>\n",
       "      <td>780</td>\n",
       "      <td>13.0</td>\n",
       "      <td>18.0</td>\n",
       "    </tr>\n",
       "    <tr>\n",
       "      <th>4</th>\n",
       "      <td>98800005</td>\n",
       "      <td>1</td>\n",
       "      <td>3.0</td>\n",
       "      <td>0</td>\n",
       "      <td>3.0</td>\n",
       "      <td>3.0</td>\n",
       "      <td>3.0</td>\n",
       "      <td>2.0</td>\n",
       "      <td>4.0</td>\n",
       "      <td>5.0</td>\n",
       "      <td>...</td>\n",
       "      <td>4.0</td>\n",
       "      <td>4.0</td>\n",
       "      <td>0.0</td>\n",
       "      <td>1.0</td>\n",
       "      <td>50.0</td>\n",
       "      <td>0.0</td>\n",
       "      <td>0</td>\n",
       "      <td>1981</td>\n",
       "      <td>0.0</td>\n",
       "      <td>0.0</td>\n",
       "    </tr>\n",
       "  </tbody>\n",
       "</table>\n",
       "<p>5 rows × 25 columns</p>\n",
       "</div>"
      ],
      "text/plain": [
       "         ID  Overall_Experience  Seat_Comfort  Seat_Class  \\\n",
       "0  98800001                   0           2.0           1   \n",
       "1  98800002                   0           1.0           0   \n",
       "2  98800003                   1           2.0           1   \n",
       "3  98800004                   0           3.0           0   \n",
       "4  98800005                   1           3.0           0   \n",
       "\n",
       "   Arrival_Time_Convenient  Catering  Platform_Location  Onboard_Wifi_Service  \\\n",
       "0                      5.0       5.0                5.0                   4.0   \n",
       "1                      5.0       1.0                2.0                   4.0   \n",
       "2                      2.0       2.0                2.0                   2.0   \n",
       "3                      2.0       NaN                2.0                   3.0   \n",
       "4                      3.0       3.0                3.0                   2.0   \n",
       "\n",
       "   Onboard_Entertainment  Online_Support  ...  Cleanliness  Online_Boarding  \\\n",
       "0                    2.0             3.0  ...          2.0              1.0   \n",
       "1                    1.0             4.0  ...          4.0              4.0   \n",
       "2                    4.0             5.0  ...          5.0              5.0   \n",
       "3                    2.0             3.0  ...          3.0              3.0   \n",
       "4                    4.0             5.0  ...          4.0              4.0   \n",
       "\n",
       "   Gender  Customer_Type   Age  Type_Travel  Travel_Class  Travel_Distance  \\\n",
       "0     0.0            1.0  52.0          NaN             0              272   \n",
       "1     1.0            1.0  48.0          1.0             1             2200   \n",
       "2     0.0            1.0  43.0          0.0             0             1061   \n",
       "3     0.0            1.0  44.0          0.0             0              780   \n",
       "4     0.0            1.0  50.0          0.0             0             1981   \n",
       "\n",
       "   Departure_Delay_in_Mins  Arrival_Delay_in_Mins  \n",
       "0                      0.0                    5.0  \n",
       "1                      9.0                    0.0  \n",
       "2                     77.0                  119.0  \n",
       "3                     13.0                   18.0  \n",
       "4                      0.0                    0.0  \n",
       "\n",
       "[5 rows x 25 columns]"
      ]
     },
     "execution_count": 3,
     "metadata": {},
     "output_type": "execute_result"
    }
   ],
   "source": [
    "df_train = pd.read_csv('training_dataset_ready_for_imputation.csv')\n",
    "del df_train['Unnamed: 0']\n",
    "df_train.head()"
   ]
  },
  {
   "attachments": {},
   "cell_type": "markdown",
   "metadata": {},
   "source": [
    "## Knowing HOW Many MISSING Values"
   ]
  },
  {
   "cell_type": "code",
   "execution_count": 4,
   "metadata": {},
   "outputs": [
    {
     "data": {
      "text/plain": [
       "ID                            0\n",
       "Overall_Experience            0\n",
       "Seat_Comfort                 61\n",
       "Seat_Class                    0\n",
       "Arrival_Time_Convenient    8924\n",
       "Catering                   8734\n",
       "Platform_Location            30\n",
       "Onboard_Wifi_Service         30\n",
       "Onboard_Entertainment        18\n",
       "Online_Support               90\n",
       "Ease_of_Online_Booking       72\n",
       "Onboard_Service            7599\n",
       "Legroom                      90\n",
       "Baggage_Handling            141\n",
       "CheckIn_Service              76\n",
       "Cleanliness                   6\n",
       "Online_Boarding               6\n",
       "Gender                       76\n",
       "Customer_Type              8941\n",
       "Age                          33\n",
       "Type_Travel                9214\n",
       "Travel_Class                  0\n",
       "Travel_Distance               0\n",
       "Departure_Delay_in_Mins      57\n",
       "Arrival_Delay_in_Mins       357\n",
       "dtype: int64"
      ]
     },
     "execution_count": 4,
     "metadata": {},
     "output_type": "execute_result"
    }
   ],
   "source": [
    "df_train.isna().sum()"
   ]
  },
  {
   "attachments": {},
   "cell_type": "markdown",
   "metadata": {},
   "source": [
    "## Do a PIPELINE with IMPUTATION and the MODEL requested as Classifier"
   ]
  },
  {
   "cell_type": "code",
   "execution_count": 6,
   "metadata": {},
   "outputs": [],
   "source": [
    "# Creating metric function to SHOW Imputation\n",
    "\n",
    "def metrics_score(actual, predicted):\n",
    "    print(classification_report(actual, predicted))\n",
    "    cm = confusion_matrix(actual, predicted)\n",
    "    plt.figure(figsize=(8,5))\n",
    "    sns.heatmap(cm, annot=True,  fmt='.1f', xticklabels=['Not Attrite', 'Attrite'], yticklabels=['Not Attrite', 'Attrite'])\n",
    "    plt.ylabel('Actual')\n",
    "    plt.xlabel('Predicted')\n",
    "    plt.show()"
   ]
  },
  {
   "cell_type": "code",
   "execution_count": 7,
   "metadata": {},
   "outputs": [],
   "source": [
    "# Print the Accuracy of the PREDICTION\n",
    "def accuracy(y_train_test, y_pred_train_test):\n",
    "    cm = confusion_matrix(y_train_test, y_pred_train_test)\n",
    "    tot = sum(sum(cm))\n",
    "    zero = cm[0][0]\n",
    "    one = cm[1][1]\n",
    "\n",
    "    accuracy = (one + zero)/tot\n",
    "    return accuracy"
   ]
  },
  {
   "attachments": {},
   "cell_type": "markdown",
   "metadata": {},
   "source": [
    "### THE True Train and Test"
   ]
  },
  {
   "cell_type": "code",
   "execution_count": 8,
   "metadata": {},
   "outputs": [
    {
     "data": {
      "text/plain": [
       "(94291, 23)"
      ]
     },
     "execution_count": 8,
     "metadata": {},
     "output_type": "execute_result"
    }
   ],
   "source": [
    "X_train = df_train.drop(['ID',\"Overall_Experience\"], axis=1) # keep it as a Matrix\n",
    "y_train = df_train[\"Overall_Experience\"]  # keep it as an array\n",
    "\n",
    "X_train.shape"
   ]
  },
  {
   "attachments": {},
   "cell_type": "markdown",
   "metadata": {},
   "source": [
    "### SPLIT THE TRAIN SET in further Train-Train to check "
   ]
  },
  {
   "cell_type": "code",
   "execution_count": 9,
   "metadata": {},
   "outputs": [],
   "source": [
    "X_train_train ,X_train_test , y_train_train, y_train_test = train_test_split(X_train , y_train, test_size=0.3, random_state=5, stratify= y_train)\n"
   ]
  },
  {
   "cell_type": "code",
   "execution_count": 10,
   "metadata": {},
   "outputs": [],
   "source": [
    "numeric_features_min_max = ['Seat_Comfort', 'Seat_Class', 'Arrival_Time_Convenient', 'Catering','Platform_Location', 'Onboard_Wifi_Service', \n",
    "                            'Onboard_Entertainment','Online_Support', 'Ease_of_Online_Booking', 'Onboard_Service','Legroom', 'Baggage_Handling', \n",
    "                            'CheckIn_Service', 'Cleanliness','Online_Boarding', 'Gender', 'Customer_Type', 'Age', 'Type_Travel','Travel_Class']\n",
    "\n",
    "numeric_features_standard = [   'Travel_Distance', 'Departure_Delay_in_Mins', 'Arrival_Delay_in_Mins']\n",
    "\n",
    "\n",
    "numeric_transformer = Pipeline(\n",
    "    steps = [ ('scaler1', MinMaxScaler() ), ('scaler2', StandardScaler() ), ('imputer', KNNImputer(n_neighbors=4) ) ] \n",
    "    # ('imputer', SimpleImputer(strategy='median') ), ADD LATER ON, , ('imputer',  IterativeImputer(random_state=0, initial_strategy='median') ('imputer', KNNImputer(n_neighbors=4) )\n",
    ")\n",
    "\n",
    "# Here the pre-processor step\n",
    "preprocessor = ColumnTransformer(\n",
    "    transformers=[\n",
    "        (\"numeric1\", numeric_transformer, numeric_features_min_max ),\n",
    "        (\"numeric2\", numeric_transformer, numeric_features_standard )\n",
    "    ]\n",
    ")\n",
    "\n",
    "# here the Pipeline\n",
    "pipe_rf = Pipeline(\n",
    "    steps = [('preprocessor', preprocessor), ('regressor', RandomForestClassifier(n_estimators = 200, n_jobs=-1) ) ]#n_estimators =1000 5min try 2k\n",
    ")\n",
    "\n",
    "\n",
    "#pipe_rf.fit(X_train_train, y_train_train)\n",
    "\n",
    "#y_pred_train_train = pipe_rf.predict(X_train_train)\n",
    "\n",
    "#metrics_score(y_train_train, y_pred_train_train)\n"
   ]
  },
  {
   "cell_type": "code",
   "execution_count": 11,
   "metadata": {},
   "outputs": [
    {
     "data": {
      "text/plain": [
       "0.9519230769230769"
      ]
     },
     "execution_count": 11,
     "metadata": {},
     "output_type": "execute_result"
    }
   ],
   "source": [
    "pipe_rf.fit(X_train_train, y_train_train)\n",
    "\n",
    "y_pred_train_test = pipe_rf.predict(X_train_test)\n",
    "\n",
    "#metrics_score(y_train_test, y_pred_train_test)\n",
    "accuracy(y_train_test, y_pred_train_test)"
   ]
  },
  {
   "cell_type": "code",
   "execution_count": null,
   "metadata": {},
   "outputs": [],
   "source": []
  },
  {
   "attachments": {},
   "cell_type": "markdown",
   "metadata": {},
   "source": [
    "## Testing the same without Pipeline"
   ]
  },
  {
   "cell_type": "code",
   "execution_count": 12,
   "metadata": {},
   "outputs": [],
   "source": [
    "#X_train_train\n",
    "scaler1 = MinMaxScaler()\n",
    "X_train_train2 = X_train_train.copy()\n",
    "X_train_test2 = X_train_test.copy()\n",
    "X_train_train2[numeric_features_min_max] = scaler1.fit_transform(X_train_train2[numeric_features_min_max])\n",
    "X_train_test2[numeric_features_min_max] = scaler1.transform(X_train_test2[numeric_features_min_max])\n",
    "\n",
    "scaler2 = StandardScaler()\n",
    "X_train_train2[numeric_features_standard] = scaler2.fit_transform(X_train_train2[numeric_features_standard])\n",
    "X_train_test2[numeric_features_standard] = scaler2.transform(X_train_test2[numeric_features_standard])\n",
    "\n",
    "# imputer\n",
    "imputer = KNNImputer(n_neighbors=4) \n",
    "X_train_train2 = imputer.fit_transform(X_train_train2)\n",
    "X_train_test2 = imputer.transform(X_train_test2)\n",
    "#pd.DataFrame(X_train_train2).isna().sum()\n",
    "\n"
   ]
  },
  {
   "cell_type": "code",
   "execution_count": 16,
   "metadata": {},
   "outputs": [
    {
     "data": {
      "text/plain": [
       "0.9519230769230769"
      ]
     },
     "execution_count": 16,
     "metadata": {},
     "output_type": "execute_result"
    }
   ],
   "source": [
    "# Model\n",
    "model = RandomForestClassifier(n_estimators = 500, n_jobs=-1)\n",
    "model.fit(X_train_train2, y_train_train)\n",
    "\n",
    "# test accuracy\n",
    "y_pred_train_test2 = model.predict(X_train_test2)\n",
    "\n",
    "#metrics_score(y_train_test, y_pred_train_test)\n",
    "accuracy(y_train_test, y_pred_train_test2)"
   ]
  },
  {
   "cell_type": "code",
   "execution_count": null,
   "metadata": {},
   "outputs": [],
   "source": []
  },
  {
   "attachments": {},
   "cell_type": "markdown",
   "metadata": {},
   "source": [
    "# Improving pipe_rf"
   ]
  },
  {
   "cell_type": "code",
   "execution_count": 68,
   "metadata": {},
   "outputs": [],
   "source": [
    "#pipe_rf.get_params()\n",
    "\n",
    "pipe_param_grid = {   'regressor__bootstrap': [True],\n",
    " 'regressor__ccp_alpha': [0.0],\n",
    " 'regressor__class_weight': [None],\n",
    " 'regressor__criterion': ['gini'],\n",
    " 'regressor__max_depth': [None],\n",
    " 'regressor__max_features': ['auto'],\n",
    " 'regressor__max_leaf_nodes': [None],\n",
    " 'regressor__max_samples': [None],\n",
    " 'regressor__min_impurity_decrease': [0.0],\n",
    " 'regressor__min_samples_leaf': [1], \n",
    " 'regressor__min_samples_split': [2],\n",
    " 'regressor__min_weight_fraction_leaf': [0.0],\n",
    " 'regressor__n_estimators': [100], #### AS HIGH AS POSSIBLE\n",
    " 'regressor__n_jobs': [None], \n",
    " 'regressor__oob_score': [False],\n",
    " 'regressor__random_state': [None],\n",
    " 'regressor__warm_start': [False]}"
   ]
  },
  {
   "cell_type": "code",
   "execution_count": 15,
   "metadata": {},
   "outputs": [
    {
     "name": "stdout",
     "output_type": "stream",
     "text": [
      "Fitting 3 folds for each of 12 candidates, totalling 36 fits\n",
      "\n",
      "Best Accuracy Score : 0.9510 \n",
      "Bast Params:  {'bootstrap': True, 'ccp_alpha': 0, 'class_weight': None, 'criterion': 'gini', 'max_depth': None, 'max_features': 'auto', 'max_leaf_nodes': None, 'max_samples': None, 'min_impurity_decrease': 0.0, 'min_samples_leaf': 1, 'min_samples_split': 2, 'min_weight_fraction_leaf': 0.0, 'n_estimators': 500, 'n_jobs': None, 'oob_score': False, 'random_state': None, 'warm_start': False}\n"
     ]
    }
   ],
   "source": [
    "pipe_param_grid = {   'bootstrap': [True],\n",
    " 'ccp_alpha': [0.01, 0.1, 0,1],\n",
    " 'class_weight': [None],\n",
    " 'criterion': ['gini'],\n",
    " 'max_depth': [None],\n",
    " 'max_features': ['auto'],\n",
    " 'max_leaf_nodes': [None],\n",
    " 'max_samples': [None],\n",
    " 'min_impurity_decrease': [0.0],\n",
    " 'min_samples_leaf': [1], \n",
    " 'min_samples_split': [2],\n",
    " 'min_weight_fraction_leaf': [0.0],\n",
    " 'n_estimators': [100, 200, 500], #### AS HIGH AS POSSIBLE\n",
    " 'n_jobs': [None], \n",
    " 'oob_score': [False],\n",
    " 'random_state': [None],\n",
    " 'warm_start': [False]}\n",
    "\n",
    "grid = GridSearchCV(model, pipe_param_grid, cv=3 ,\n",
    "                    verbose = 50 , n_jobs=-1)\n",
    "\n",
    "grid.fit(X_train_train2, y_train_train)\n",
    "\n",
    "print('\\nBest Accuracy Score : %.4f'%grid.best_score_, '\\nBast Params: ', str(grid.best_params_))"
   ]
  },
  {
   "cell_type": "code",
   "execution_count": null,
   "metadata": {},
   "outputs": [],
   "source": []
  },
  {
   "cell_type": "code",
   "execution_count": 24,
   "metadata": {},
   "outputs": [
    {
     "name": "stdout",
     "output_type": "stream",
     "text": [
      "              precision    recall  f1-score   support\n",
      "\n",
      "           0       1.00      1.00      1.00     29917\n",
      "           1       1.00      1.00      1.00     36088\n",
      "\n",
      "    accuracy                           1.00     66005\n",
      "   macro avg       1.00      1.00      1.00     66005\n",
      "weighted avg       1.00      1.00      1.00     66005\n",
      "\n"
     ]
    },
    {
     "data": {
      "image/png": "[encoded data removed]",
      "text/plain": [
       "<Figure size 800x500 with 2 Axes>"
      ]
     },
     "metadata": {},
     "output_type": "display_data"
    }
   ],
   "source": [
    "y_pred_train = grid.predict(X_train_train2)\n",
    "\n",
    "metrics_score(y_train_train, y_pred_train)"
   ]
  },
  {
   "cell_type": "code",
   "execution_count": null,
   "metadata": {},
   "outputs": [],
   "source": []
  },
  {
   "attachments": {},
   "cell_type": "markdown",
   "metadata": {},
   "source": [
    "a"
   ]
  }
 ],
 "metadata": {
  "kernelspec": {
   "display_name": "Python 3 (ipykernel)",
   "language": "python",
   "name": "python3"
  },
  "language_info": {
   "codemirror_mode": {
    "name": "ipython",
    "version": 3
   },
   "file_extension": ".py",
   "mimetype": "text/x-python",
   "name": "python",
   "nbconvert_exporter": "python",
   "pygments_lexer": "ipython3",
   "version": "3.9.13"
  }
 },
 "nbformat": 4,
 "nbformat_minor": 2
}
