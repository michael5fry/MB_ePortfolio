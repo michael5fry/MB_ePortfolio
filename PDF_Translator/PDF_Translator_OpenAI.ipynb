{
 "cells": [
  {
   "attachments": {},
   "cell_type": "markdown",
   "metadata": {},
   "source": [
    "# Import Libraries"
   ]
  },
  {
   "cell_type": "code",
   "execution_count": 15,
   "metadata": {},
   "outputs": [],
   "source": [
    "import pypdf\n",
    "#conda install -c conda-forge pypdf\n",
    "\n",
    "import docx\n",
    "#conda install -c conda-forge python-docx\n",
    "\n",
    "import time\n",
    "\n",
    "import numpy as np"
   ]
  },
  {
   "attachments": {},
   "cell_type": "markdown",
   "metadata": {},
   "source": [
    "# Main definition to use Prompt Engineering with ChatGPT"
   ]
  },
  {
   "cell_type": "code",
   "execution_count": 17,
   "metadata": {},
   "outputs": [],
   "source": [
    "import openai\n",
    "import os\n",
    "\n",
    "from dotenv import load_dotenv, find_dotenv\n",
    "_ = load_dotenv(find_dotenv()) # read local .env file\n",
    "\n",
    "\n",
    "my_test_key2 = 'Open-AI Key' # Put here the Key \n",
    "openai.api_key  = my_test_key2#os.getenv('OPENAI_API_KEY')"
   ]
  },
  {
   "cell_type": "code",
   "execution_count": 18,
   "metadata": {},
   "outputs": [],
   "source": [
    "def get_completion(prompt, model=\"gpt-3.5-turbo\"): # Andrew mentioned that the prompt/ completion paradigm is preferable for this class\n",
    "    messages = [{\"role\": \"user\", \"content\": prompt}]\n",
    "    response = openai.ChatCompletion.create(\n",
    "        model=model,\n",
    "        messages=messages,\n",
    "        temperature=0, # this is the degree of randomness of the model's output\n",
    "    )\n",
    "    return response.choices[0].message[\"content\"]\n"
   ]
  },
  {
   "attachments": {},
   "cell_type": "markdown",
   "metadata": {},
   "source": [
    "# Real Script\n",
    "\n",
    "### It is not possible to make a loop since ChatGPT 3.5 without adding the SLEEP period, since there are only 3 request for 60 second"
   ]
  },
  {
   "cell_type": "code",
   "execution_count": null,
   "metadata": {},
   "outputs": [],
   "source": [
    "pdf = '2022-06-17 CALIFORNIA Air Resource Board High_Flow_Final_Report_ada.pdf'"
   ]
  },
  {
   "cell_type": "code",
   "execution_count": 30,
   "metadata": {},
   "outputs": [],
   "source": [
    "reader = pypdf.PdfReader(pdf )\n",
    "\n",
    "translated_pages = []\n",
    "for i in range(82):\n",
    "    # Wait for 15s\n",
    "    time.sleep(15)\n",
    "\n",
    "    # Change the pages\n",
    "    page = reader.pages[i]\n",
    "    text_pdf = page.extract_text()\n",
    "\n",
    "    # Prompting\n",
    "    prompt = f\"\"\"\n",
    "        Translate the follwing text inside the triple backticks in Italian\n",
    "        ```\n",
    "        {text_pdf}\n",
    "        ```\n",
    "        \"\"\"\n",
    "\n",
    "    response = get_completion(prompt)\n",
    "    # make a list of responses\n",
    "    translated_pages.append(response)\n"
   ]
  },
  {
   "attachments": {},
   "cell_type": "markdown",
   "metadata": {},
   "source": [
    "# Save the list of Translated pages in a Word"
   ]
  },
  {
   "cell_type": "code",
   "execution_count": null,
   "metadata": {},
   "outputs": [],
   "source": [
    "# Just make a Back Up\n",
    "back_up = translated_pages.copy()"
   ]
  },
  {
   "cell_type": "code",
   "execution_count": null,
   "metadata": {},
   "outputs": [],
   "source": [
    "divider1 = '\\n\\n--------------------------------------------------------------------------------------------------------\\n'\n",
    "divider2 = '--------------------------------------------------------------------------------------------------------\\n'\n",
    "divider3 = '--------------------------------------------------------------------------------------------------------\\n\\n'\n",
    "\n",
    "divider = divider1 + divider2 +divider3\n",
    "new_transl_pages = [translated_pages.insert(i, divider) for i in np.arange(1, 164, 2)]"
   ]
  },
  {
   "cell_type": "code",
   "execution_count": 93,
   "metadata": {},
   "outputs": [],
   "source": [
    "    all_translated_pages = ','.join(translated_pages)\n",
    "    doc = docx.Document()\n",
    "    doc.add_paragraph(all_translated_pages)\n",
    "\n",
    "    doc.save('output.docx')"
   ]
  },
  {
   "cell_type": "code",
   "execution_count": null,
   "metadata": {},
   "outputs": [],
   "source": []
  }
 ],
 "metadata": {
  "kernelspec": {
   "display_name": "base",
   "language": "python",
   "name": "python3"
  },
  "language_info": {
   "codemirror_mode": {
    "name": "ipython",
    "version": 3
   },
   "file_extension": ".py",
   "mimetype": "text/x-python",
   "name": "python",
   "nbconvert_exporter": "python",
   "pygments_lexer": "ipython3",
   "version": "3.9.16"
  },
  "orig_nbformat": 4
 },
 "nbformat": 4,
 "nbformat_minor": 2
}
